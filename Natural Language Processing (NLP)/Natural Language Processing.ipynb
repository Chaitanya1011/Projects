{
 "cells": [
  {
   "cell_type": "markdown",
   "metadata": {},
   "source": [
    "# Natural Language Processing"
   ]
  },
  {
   "cell_type": "markdown",
   "metadata": {},
   "source": [
    "## Predict Oil Prices using Sentiment Analysis"
   ]
  },
  {
   "cell_type": "markdown",
   "metadata": {},
   "source": [
    "### Data Extraction and Data Cleansing"
   ]
  },
  {
   "cell_type": "markdown",
   "metadata": {},
   "source": [
    "Here we extract the news data from oilprice.com by <b>scrapping</b> and then cleanse the data for further analysis."
   ]
  },
  {
   "cell_type": "code",
   "execution_count": 46,
   "metadata": {},
   "outputs": [
    {
     "name": "stdout",
     "output_type": "stream",
     "text": [
      "['https://oilprice.com/Energy/Crude-Oil/Oil-Prices-Slide-As-Saudi-Arabia-Confirms-Another-Export-Boost.html', 'https://oilprice.com/Energy/Crude-Oil/SP-Cuts-Oil-Nations-Ratings.html', 'https://oilprice.com/Energy/Crude-Oil/Is-This-The-Beginning-Of-The-End-For-Texas-Oil.html', 'https://oilprice.com/Energy/Crude-Oil/The-Permian-Boom-Is-Going-Bust.html', 'https://oilprice.com/Energy/Crude-Oil/Worlds-Largest-Oil-Trader-Says-Demand-Could-Plummet-By-20-Million-Bpd.html', 'https://oilprice.com/Energy/Crude-Oil/How-Far-Will-Trump-Go-To-Save-US-Shale.html', 'https://oilprice.com/Energy/Crude-Oil/What-Happens-If-US-Shale-Goes-Bust.html', 'https://oilprice.com/Energy/Crude-Oil/This-Supermajor-Is-About-To-Slash-Permian-Oil-Production.html', 'https://oilprice.com/Energy/Crude-Oil/Saudi-Arabia-And-The-US-Could-Form-The-Worlds-Newest-Oil-Cartel.html', 'https://oilprice.com/Energy/Crude-Oil/Not-Even-China-Can-Save-Oil-Markets-This-Time-Around.html', 'https://oilprice.com/Energy/Crude-Oil/The-Boldest-Permian-Plays-To-Watch-As-The-Oil-Market-Circles-The-Drain.html', 'https://oilprice.com/Energy/Crude-Oil/Canada-Braces-For-Oil-Cuts-As-Storage-Nears-Limit.html', 'https://oilprice.com/Energy/Crude-Oil/Trumps-Ultimate-Weapon-To-End-The-Oil-War.html', 'https://oilprice.com/Energy/Crude-Oil/Saudi-Arabias-Oil-Price-War-Is-Backfiring.html', 'https://oilprice.com/Energy/Crude-Oil/Azerbaijan-Could-Soon-Tap-Its-410-Million-Barrel-Oil-Reserves.html', 'https://oilprice.com/Energy/Crude-Oil/Oil-God-Andy-Hall-Is-Happy-To-Be-Out-Of-Broken-Market.html', 'https://oilprice.com/Energy/Crude-Oil/Worlds-Top-Oil-Trader-Global-Demand-To-Plunge-More-Than-10.html', 'https://oilprice.com/Energy/Crude-Oil/Canada-Prepares-Multi-Billion-Dollar-Bailout-For-Its-Oil-Industry.html', 'https://oilprice.com/Energy/Crude-Oil/Will-Putin-Risky-Oil-Gamble-Pay-Off.html', 'https://oilprice.com/Energy/Crude-Oil/The-New-Saudi-Plan-To-Send-Oil-Prices-Lower.html']\n"
     ]
    }
   ],
   "source": [
    "import requests\n",
    "from bs4 import BeautifulSoup\n",
    "from vaderSentiment.vaderSentiment import SentimentIntensityAnalyzer\n",
    "\n",
    "# Create lists to store scraped news urls, headlines and text\n",
    "url_list = []\n",
    "date_time = []\n",
    "news_text = []\n",
    "headlines = [] \n",
    "\n",
    "for i in range(1,3): \n",
    "    url = 'https://oilprice.com/Energy/Crude-Oil/Page-{}.html'.format(i)\n",
    "    request = requests.get(url)\n",
    "    soup = BeautifulSoup(request.text, \"html.parser\")\n",
    "    for links in soup.find_all('div', {'class': 'categoryArticle'}):\n",
    "        for info in links.find_all('a'):\n",
    "            if info.get('href') not in url_list:\n",
    "                url_list.append(info.get('href'))\n",
    "print(url_list)"
   ]
  },
  {
   "cell_type": "markdown",
   "metadata": {},
   "source": [
    "We created a list of all particles in the first 3 pages of oilprice.com site above. Next we will extract the new data from each of this article."
   ]
  },
  {
   "cell_type": "code",
   "execution_count": 47,
   "metadata": {},
   "outputs": [],
   "source": [
    "for www in url_list:\n",
    "    headlines.append(www.split(\"/\")[-1].replace('-',' '))    #Storing the headline of the article\n",
    "    request = requests.get(www)\n",
    "    soup = BeautifulSoup(request.text, \"html.parser\")\n",
    "    \n",
    "    for dates in soup.find_all('span', {'class': 'article_byline'}):    #Storing the date and time of publication of the article\n",
    "        date_time.append(dates.text.split('-')[-1])\n",
    "    \n",
    "    temp = []\n",
    "    for news in soup.find_all('p'):\n",
    "            temp.append(news.text)    #Storing the text of the article, this includes a lot of junk data as well\n",
    "    #The news starts after 'More Info'. \n",
    "    \n",
    "    #identifying the last line of the news article\n",
    "    for last_sentence in reversed(temp):\n",
    "        if last_sentence.split(\" \")[0]==\"By\" and last_sentence.split(\" \")[-1]==\"Oilprice.com\":\n",
    "            break\n",
    "        elif last_sentence.split(\" \")[0]==\"By\":\n",
    "            break\n",
    "    \n",
    "    #pruning the junk text from the scraped data to create the news text\n",
    "    joined_text = ' '.join(temp[temp.index(\"More Info\")+1:temp.index(last_sentence)])\n",
    "    news_text.append(joined_text)"
   ]
  },
  {
   "cell_type": "code",
   "execution_count": 50,
   "metadata": {},
   "outputs": [
    {
     "data": {
      "text/plain": [
       "[\"Saudi Arabia is not backing down from the oil price war for market share, pledging another increase in its crude oil exports starting in May, despite a growing global glut amid crashing demand. “[T]he Kingdom intends to increase its crude oil exports, starting from May, by about 600 thousand barrels per day, bringing the total of Saudi petroleum exports to 10.6 million barrels per day,” an official at the Saudi Arabian Energy Ministry said on Monday, as carried by the official\\xa0Saudi Press Agency. “This increase came as a result of displacing crude with natural gas from the Al-Fadhili gas plant, as a fuel for generating electricity, and from the decrease in local demand for petroleum products due to the decrease in transportation from the precautionary measures in place to limit the coronavirus outbreak,” said Saudi Arabia, OPEC’s top producer and the world’s top oil exporter, which continues to signal an aggressive supply surge amid profoundly depressed global demand.\\n\\ngoogletag.cmd.push(function(){googletag.display('div-gpt-ad-1555424664620-0');});\\n\\n\\n Earlier this month, the Kingdom said it was intent on unleashing growing crude oil volumes on the market, aiming to significantly boost its crude oil exports to\\xa0a record-breaking\\xa0more than 10 million bpd in May.\\xa0 The Saudis, who launched an all-out price war for market share with Russia after Moscow refused to back deeper cuts, will not only boost April exports from the current 7 million bpd, but it will also grow exports in May by another 250,000 bpd from April. Now supply is expected at 10.6 million bpd starting in May, as per the latest Saudi statement.\\xa0 At the end of last week, Saudi Arabia\\xa0denied\\xa0reports that it was in contact with Russia about potential talks to reach a deal to influence oil prices, which continued to plummet on Monday, with\\xa0WTI Crude\\xa0plunging by 5.49 percent to $20.33 at 7:56 a.m. EDT. According to analysts, no deal can save the market right now as demand destruction could reach 20 million bpd or more in the coming weeks.\",\n",
       " \"Several oil-producing nations woke up to lower credit ratings from S&P amid the latest oil price rout, Reuters reports, listing Oman, Nigeria, Mexico, Angola, and Ecuador among those downgraded and noting that Saudi Arabia and Russia escaped the downgrades. Oil prices have fallen by more than half since the start of the year, with the drop particularly steep after March 6 when OPEC+ failed to agree on deeper production cuts. In retaliation for Russia’s unwillingness to cut more production, Saudi Arabia\\xa0said\\xa0it would increase its oil output to 12.3 million bpd and boost production capacity to 13 million bpd. Russia, meanwhile, has\\xa0stated\\xa0it could live with oil at $25 for a decade if need be. The country’s budget for this year plans on an oil price of a little over $42 for the Urals blend, but it has liquid assets worth more than $150 billion in its sovereign wealth fund alone. It also has other financial reserves,\\xa0bringing\\xa0the total to $570 billion, a little more than what Saudi Arabia has as reserves. These reserves may be why S&P spared the two biggest OPEC+ producers from a credit rating downgrade.\\n\\ngoogletag.cmd.push(function(){googletag.display('div-gpt-ad-1555424664620-0');});\\n\\n\\n Moody’s earlier this week\\xa0downgraded\\xa0its projection for Russia’s GDP, however, to 0.5 percent from 1.5 percent because of the oil demand slump and the weak purchasing power of Russian households. These unfavorable conditions in Russia, however, is nothing compared to the situation in the more oil-dependent countries. Nigeria’s credit rating, for instance, slid to B-, which is even deeper into junk territory than the previous B.\\xa0 Mexico moved closer to that dreaded junk territory, to BBB. Angola and Ecuador, according to S&P, are close to the dangerous area of default, resulting in a downgrade to CCC. “We have lowered the ratings or assigned a negative outlook on some sovereigns because of their heightened risk to manage the fiscal and external shock resulting from lower (oil) prices in addition to the blow to economic growth as a result of the pandemic,” the ratings agency said.\",\n",
       " \"Widespread misery was evident in the Dallas Fed’s latest survey, which included responses from 161 energy firms and took place from March 11-19. The quarterly survey offers a window into not just the economic health of the industry, but also a look into the psyche of many oil executives in Texas. The numbers were stunning. The broad business activity index, which measures activity in the energy industry, plunged in the first quarter, dropping to a -50.9 reading, down from -4.9 in the fourth quarter. More specific indices reveal similar numbers. For instance, the Dallas Fed’s index on capex fell off a cliff, declining from 9.1 in the fourth quarter to -49.0 in the first three months of the year, a reflection of the severe cuts to spending budgets. In a rather revealing slide from the Dallas Fed survey, the average price that a driller needs to simply cover operating expenses (let alone earn a return) ranged from $23 in the Eagle Ford to $36 in “other” shale basins. In other words, with WTI currently trading below $25 per barrel, the “average” shale driller is not even covering the cost of keeping shale wells online.\\xa0  Related: World’s Largest Oil Trader Says Demand Could Plummet By 20 Million Bpd Those are just the costs for operating. Breakevens to drill new wells are roughly double those levels, with average breakevens for Permian wells at $46. But even that figure only includes the cost of drilling a new well, and excludes other costs, such as debt servicing, overhead, and other corporate costs. “At $40 per barrel, you’re in the hole; at $30, it is hard to even keep producing existing wells. Nothing can be drilled at $30 per barrel,” one oil executive said in the Dallas Fed survey.\\xa0 That does not mean that there will be an immediate wave of shut-ins. Companies keep operations going for a variety of reasons – there are costs to starting up and shutting down, the reservoir can be damaged in the process, and certain terms of land leases or debt obligations incentivize drilling even when it may not make sense.\\xa0\\n\\ngoogletag.cmd.push(function(){googletag.display('div-gpt-ad-1555424664620-0');});\\n\\n\\n But the figures do reveal that the industry is in a state of profound crisis and a lot of wells will shut down if current prices persist.\\xa0  More than half of oil executives said that their headcount could drop this year, with nearly a quarter saying payrolls would “decrease significantly.”  Related: Oil Climbs As U.S. Pushes For An End To The Price War When asked how long companies expected to remain solvent if WTI remained stuck below $40 per barrel, about 15 percent of respondents said they would be insolvent in less than 12 months, and another 25 percent said between one and two years.\\xa0 In the special comment section, which allows oil executives to respond anonymously, the tone was dire. Here are a few select comments:\\xa0 In fact, the topic of Russia and Saudi Arabia came up repeatedly as a source of trouble. Surprisingly, many executives downplayed the impact of the coronavirus, although perhaps that is because the survey was conducted before many of the more stringent stay-at-home orders went into effect.\\xa0 There is a small strain of optimism from industry executives. Only about 15 percent of respondents see WTI staying below $35 per barrel by the end of 2020. Almost two-thirds of them see prices between $35 and $50. To be sure, even WTI in that range puts U.S. shale drillers in a financial bind, but the crisis would be not as severe as today.\\xa0\",\n",
       " \"Oil companies are already beginning to pare back their activity in the Permian, with cutbacks coming not just from smaller drillers, but also the oil majors.\\xa0 Chevron said on Tuesday that it would cut capex this year by 20 percent, or $4 billion, with half of that cut concentrated on its Permian operations. “Given the decline in commodity prices, we are taking actions expected to preserve cash, support our balance sheet strength, lower short-term production, and preserve long-term value,” Chevron CEO Michael Wirth said in a statement. Lower spending will translate into the major’s Permian output ending the year 120,000 barrels per day lower than previously expected. “The flexibility of our capital program allows us to respond to these unexpected market conditions by deferring short-cycle investments and pacing projects not yet under construction,” Jay Johnson, Executive Vice President of Upstream, said. Chevron also said that it would suspend its share buyback program, but the spending cuts were aimed at defending its dividend. “Our focus is on protecting the dividend,” CFO Pierre Breber said. Prior to the announcement, Chevron needed oil prices at around $50 per barrel in order to finance its operations and cover its dividend, according to an estimate from Goldman Sachs. The oil major’s decision to slash spending is aimed at maintaining those shareholder payouts in a world of much lower pricing. The decision was couched as a temporary measure, with the company’s Permian project ramping up as soon as the pandemic and oil market bust blew over. “This is the fourth time in my career I’ve seen [crude] prices drop by more than 50% in a very short period of time,” Wirth told CNBC. “We’ve been here before, we know what to do, we’re taking action.”  Related: What Happens If U.S. Shale Goes Bust?\\n\\ngoogletag.cmd.push(function(){googletag.display('div-gpt-ad-1555424664620-0');});\\n\\n\\n But the language sounds rather optimistic, given the historic rout in global demand. Morgan Stanley said that U.S. GDP could contract by a whopping 30 percent in the second quarter. Federal Reserve Bank of St. Louis President James Bullard said that U.S. unemployment could reach 30 percent, a level not seen even during the Great Depression of the 1930s. The airline industry is preparing for a nationwide shutdown of virtually all passenger flights for a period of time. While everyone is hoping that the shutdown related to the global pandemic is temporary, there will almost certainly be lasting economic scars. More directly related to the oil industry, the piling up of oil inventories to unprecedented levels means that oil prices won’t simply return $50+ after the worst of the pandemic passes. “The only thing that will help the oil price long term is a lasting removal from the markets of overcapacities, which is already beginning now,” Commerzbank said in a report on Tuesday. “Be it state-owned oil companies, large international energy corporations or US shale oil companies, all of them will soon (have to) massively reduce their investments.” On Monday, S&P Ratings cut its outlook for Chevron’s credit to negative from stable. The Permian basin lost 13 rigs last week, but because there is typically a several-month lag between major price movements and changes in the rig count, the worst for the Permian lies ahead.\\xa0 Schlumberger, the world’s largest oilfield services company, announced on Tuesday plans to cut spending by 30 percent this year. The company said that the U.S. rig count could fall below the 2016 nadir, when Permian rigs bottomed out below 150 (less than half of current levels) and total U.S. rigs fell to around 400, compared to 772 currently. In other words, the shale industry is set to scrap hundreds of rigs in the coming months, according to the world’s largest oilfield services company. Last week, Halliburton announced plans to furlough 3,500 workers.\\xa0  Related: Cesium - The Most Important Metal You’ve Never Heard Of ExxonMobil has yet to reveal its revised spending program, but it too will likely cut spending. Exxon needs oil prices as high as $70 per barrel in order to finance its dividend and cover expenses. Its dividend yield is trading at around 10 percent, which many analysts see as unsustainable. Exxon has borrowed to cover its shareholder payouts, but it also just saw its credit rating cut. Something has to give, and Exxon will almost certainly feel compelled to follow in Chevron’s footsteps and slash its Permian operations. Reuters reports that Exxon’s large offshore gas drilling project and LNG export terminal in Mozambique could be delayed. Exxon’s East Africa campaign is one of just a handful of flagship projects worldwide for the major, along with offshore drilling in Guyana, LNG in Papua New Guinea, and, of course, fracking in the Permian and associated petrochemical projects on the Texas coast. The cuts from Chevron – and likely forthcoming cuts from Exxon – are a substantial climb down from just a few weeks ago. Both majors gave their annual Investor Day presentations just three weeks ago, in which they reiterated their aggressive drilling and production targets in the Permian. But everything has changed since then. With Brent in the $25 per barrel range, roughly 10 percent of global supply is uneconomic.\",\n",
       " \"A dramatic change in oil demand coupled with an unexpected increase in production has upended the industry, Vitol’s chief executive Russell Hardy\\xa0told\\xa0Bloomberg in an interview. At its peak, oil demand could slump by 15 to 20 million bpd over the next few weeks. On an annual basis, Hardy said, this would contribute to a demand decline of 5 million bpd. “It’s pretty huge in terms of anything we’ve had to deal with before,” Vitol’s chief executive said. More bad news is coming, too. India’s Prime Minister Narendra Modi just\\xa0ordered\\xa0a nationwide lockdown in response to a spike in new coronavirus cases, which, hardy noted, will translate into a further decline in oil demand, and a substantial one, at that.\\n\\ngoogletag.cmd.push(function(){googletag.display('div-gpt-ad-1555424664620-0');});\\n\\n\\n Asked by Bloomberg about where oil prices will be going from here, Hardy noted that more oil and oil products were being churned out than the world can consume, so stockpiles in the U.S., Europe, and India will rise, with refineries cutting output. So far, he said, the cuts amount to about 7 million bpd. Even so, storage is filling up, especially for oil products. While there is some free capacity yet for crude oil, it will likely fill up fast, putting additional pressure on prices. Oil analytics firm OilX earlier this week calculated there are about 750 million barrels of crude in storage globally, with analysts expecting this to rise to as much as 1 billion barrels. While he declined to suggest a specific price for Brent and West Texas Intermediate, Vitol’s Hardy said that both benchmarks were likely to fall further over the next few weeks as countries on lockdown come to grips with the new remote-work reality that is taking a substantial chunk out of global oil demand. At the time of writing, Brent crude was\\xa0trading\\xa0at $28.84 a barrel, with WTI at $23.49 a barrel, both down from Tuesday’s close.\",\n",
       " \"The U.S. is today showing signs of increased desperation as oil prices sink to levels that may pose a threat to the energy independence of the United States by kicking U.S. shale out of the market. Several recent actions taken by the United States indicate that it may be attempting to change the current trajectory of the global oil market, including by showing interest in stepping up negotiations with Saudi Arabia, which is spearheading the ongoing market share war that is fostering ultra-low oil prices. \\xa0Drastic Times Call for Drastic Measures\\xa0\\xa0 The United States is facing a national emergency. The Covid-19 pandemic in the world’s largest oil consumer, The United States, has dented demand to the extent that a couple months ago, no one thought possible. The virus struck—first in the world’s largest oil importer, China--at a time when the oil markets were already concerned about a global oversupply. The virus also struck around the same time that another critical oil-market event took place: the end of the OPEC+ production cut agreement and the start of the oil price war—with Saudi Arabia on one side and Russia on the other. The result is that the U.S. shale industry, often touted as the backbone of the U.S. energy independence movement, has found itself caught in the middle between the oversupplied oil market and severely hampered oil demand. And it looks like the government is getting worried. Saudi Envoy On Monday evening, the U.S. made the decision to appoint Victoria Coates as special energy representative to Saudi Arabia. While the United States insists that this was in the works for quite some time, even before the oil war began, the timing coincides rather nicely with the shocking price drop for the US crude grade West Texas Intermediate, which is now trading around $23 per barrel, down from $60-something per barrel at the beginning of the year.  Related: The Boldest Permian Plays To Watch As The Oil Market Circles The Drain\\n\\ngoogletag.cmd.push(function(){googletag.display('div-gpt-ad-1555424664620-0');});\\n\\n\\n This $23 per barrel is not sustainable long term—perhaps not even short term—creating a sense of urgency in the United States to address the problem. And who better to address than the perceived perpetrator of the oil price war, Saudi Arabia. At the beginning of the oil price slide, the Trump Administration was singing the praises of the low oil prices. For consumers in the United States, lower oil prices mean an easing of cost of living expenses, freeing up money to spend on other things, and bolstering the economy in the process. This is all positive for consumers. But it became clear rather quickly that oil prices were sinking far too low to be sustainable for the oil industry, and for the economy. Low gasoline prices mean very little when people aren’t leaving their homes to drive anywhere, as is the case now for nearly half of all Americans, so the single benefit of low oil prices will not be realized. These stay-at-home restrictions and lack of call for gasoline are contributing to the lack of demand and helping to push prices even lower. The government has since shown signs of its panic—oil prices are too low, and something must give, and soon. That “something”, the U.S. hopes, will be Saudi Arabia. Enter Victoria Coates. When United States announced this week that it had appointed a new special energy envoy to Saudi Arabia, the Administration said it was “to ensure the Department of Energy has an added presence in the region.” Coates was a critical component of the negotiations with Iran and Trump’s Middle East policy creation during her time at the White House, which ended in February when she moved to the Department of Energy. The announcement comes about a week after President Trump, at a coronavirus briefing, said the U.S. would intervene in the oil war, stressing the U.S. had “a lot of power over the situation” and was “trying to find some kind of medium ground.”  Related: The Real Reason Oil Prices Crashed Despite the timing, the U.S. is not owning the fact that Coates’ new assignment and the oil price war have any noteworthy link. Lawmakers Out for Blood But the move comes after intense pressure from U.S. lawmakers and others in the industry in recent weeks, some of who have urged President Trump to take the extreme stance of embargoing Russian and Saudi Arabian oil. Other calls to action include the Texas Railroad Commission’s suggestion to use pro-rationing that would force Texas producers to curb production—something that is unthinkable in America. Mississippi Senator Roger Wicker and Oklahoma Senator Inhofe asked the Department of Commerce to slap a tariff on foreign oil, citing national security reasons. Other ideas include outright conspiring—albeit in a somewhat unofficial capacity—with Saudi Arabia to coordinate production. These rare developments and proposals all indicate one thing: the oil price war is hurting U.S. shale, and the government is worried. Energy security, energy dependence, and a significant portion of the economy are all riding on U.S. shale’s ability to outlast Saudi Arabia or Russia in the oil price war. And while U.S. shale was the one to show remarkable fortitude the last time Saudi Arabia tried to squeeze it out of the market, the coronavirus component this time around, combined with what many see as an unhealthy debt load, have led to some question whether U.S. shale has what it takes this time around.\",\n",
       " \"This month has seen a spectacular oil price crash the likes of which we haven't seen in decades. The last time we had since a single day oil price drop as drastic as Monday, March 9 was way back in 1991, when the U.S. launched airstrikes directed at the Iraqi military in response to the invasion of Kuwait. The price drop earlier this month was similarly staggering, with Brent benchmark global oil prices down by 22 percent and United States prices down by 20 percent.\\xa0 This cataclysmic crash was caused by a perfect storm of market-spooking factors: the accelerating global spread of the COVID-19 coronavirus pandemic and the continuing oil price war being waged by Saudi Arabia after the OPEC+ alliance, which formed in 2016 to include Russia, imploded at the beginning of this month. The implosion itself was caused by coronavirus, as the plummeting oil demand caused by the industry- and economy-stalling pandemic led Russia and Saudi Arabia to initiate talks to address the issue, which subsequently led to bitter disagreement and an ultimate disbanding of the alliance and then an all-out price war.\\xa0 The oil price war and subsequent crash have had devastating effects on U.S. shale, which was already struggling with diminishing profit margins. “Few U.S. shale firms can withstand prolonged oil price war,” Reuters proclaimed last week. “For the last five years, U.S. shale oil producers have been battling suppliers for lower costs and running equipment and crews hard to drive drilling costs down by about $20 a barrel,” the article reports. “The oil market rout last week, however, has left most shale firms facing prices below their costs of production.” Subsequent news out of the Permian Basin has been grim, with World Oil reporting this week that “Shale plays, oil patch see tens of thousands of layoffs across the industry.” According to analysis by Texas Railroad Commissioner Ryan Sitton, tens of thousands of oil industry workers are being laid off across Texas, and World Oil writes that “while workers in just about every industry are threatened by the economic slowdown, few are more at risk than those in the oil patch.”\\n\\ngoogletag.cmd.push(function(){googletag.display('div-gpt-ad-1555424664620-0');});\\n\\n\\n  Related: Barclays Slashes Oil Price Forecast On Demand Shock This news is what is leading a lot of us to ask, what would happen if the U.S. shale industry goes bankrupt? This is exactly the question that Robert Rapier sets about answering in an opinion column for Forbes this week. “The real consequences of letting the U.S. shale industry fail is to hand global control of oil production back to Saudi Arabia. Millions of Americans will lose jobs, domestic oil production will fall, and our oil imports will soar. Saudi Arabia will then be free to once again withhold production to drive up the price.” While some shale companies in the U.S. will inevitably go bankrupt in the coming months, if too much of the industry fails it could have a lasting negative impact on the United States’ national security. Ultimately, he argues, letting U.S. oil collapse is far too risky in the short term, even if moving away from fossil fuels is, ultimately, a net good. “Look, you may think the U.S. oil industry deserves to go bankrupt. You may believe we should all be driving around in wind-powered electric vehicles or riding bicycles. But that’s not the world we live in today,” he writes. “Should we use less oil? Yes. And we will over time. But right now the U.S. still uses a lot of oil, and we will continue to do so for several years, even as we transition to electric vehicles.” On the other hand, as oil is proving to be an increasingly volatile sector, and even Saudi Aramco is talking about peak oil by mid-century, isn’t it high time to let go? As climate action increases, the Financial Times warning that this oil crash is “only a foretaste of what awaits energy industry,” maybe it’s time to read the writing on the wall and more seriously divest from oil in favor of creating jobs and infrastructure in more progressive and forward-leaning energy sectors.\",\n",
       " \"Chevron is slashing capital expenditures, especially in the Permian, and is suspending its share buyback program, the U.S. supermajor\\xa0said\\xa0on Tuesday. It is the latest oil major to slash billions of capital expenditures as oil prices plummet to below breakeven levels.\\xa0 Chevron is axing its 2020 capital spending plan by $4 billion, or by 20 percent, to $16 billion, to protect its dividend and balance sheet in one of the worst oil price routs in recent memory.\\xa0\\xa0 Of the $4-billion CAPEX cut, $2 billion will be slashed across upstream unconventionals, primarily in the Permian Basin. Another $700 million will be cut from upstream projects and exploration, $500 million from upstream base business across U.S. and international assets, and $800 million from the downstream & chemicals sector.\\xa0\\xa0 The supermajor also suspended its $5 billion annual share repurchase program after repurchasing $1.75 billion of shares in Q1.\\xa0\\n\\ngoogletag.cmd.push(function(){googletag.display('div-gpt-ad-1555424664620-0');});\\n\\n\\n Chevron’s Permian production, on which both Chevron and Exxon bet big last year, is expected to be about 125,000 barrels of oil equivalent per day, or 20 percent, below the previous guidance, Chevron said today. “Given the decline in commodity prices, we are taking actions expected to preserve cash, support our balance sheet strength, lower short-term production, and preserve long-term value,” Chevron’s Chairman and CEO Michael Wirth said in a statement.\\xa0 Chevron’s Chief Financial Officer Pierre Breber said: “Our focus is on protecting the dividend, prioritizing capital that drives long-term value, and supporting the balance sheet.”\\xa0 With CAPEX cuts and share buyback suspension, Chevron joins other major oil firms that have\\xa0announced spending reductions\\xa0in recent days after oil prices crashed on the coronavirus-hit demand shock and price-war-driven supply shock.\\xa0\\xa0 ExxonMobil\\xa0said\\xa0last week it was looking to “significantly reduce spending as a result of market conditions caused by the COVID-19 pandemic and commodity price decreases.” Shell and Total announced on Monday reductions in capital expenditures and suspension of their respective share buyback programs.\\xa0\",\n",
       " \"The United States and Saudi Arabia have been discussing the idea of setting up an oil accord, Bloomberg reports, citing Energy Secretary Dan Brouillette. Such an agreement would effectively amount to a cartel, which, by definition, is a group of independent market participants agreeing to act together to influence the market in a way favorable to them. For now, however, this is just an idea that some officials in the Trump administration support. The chance of it becoming anything more is unclear, according to Brouillette. “There are many, many ideas that are floated around the policy space, that is one of them,” the U.S. Energy Secretary told Bloomberg in an interview.\\xa0\\n\\ngoogletag.cmd.push(function(){googletag.display('div-gpt-ad-1555424664620-0');});\\n\\n\\n “I don’t know that it is going to be presented in any formal way.” The U.S. oil industry has suffered a heavy blow from the combination of the coronavirus outbreak and the price war that Saudi Arabia started after Russia refused to cooperate on deeper production cuts. Producers are slashing spending plans, suspending share buybacks, and some have already\\xa0asked\\xa0oilfield service providers for substantial discounts to their services. West Texas Intermediate, the U.S. benchmark, has shed about 60 percent of its value since the start of the year.\\xa0 According to Reuters’\\xa0John Kemp, it has further to fall unless the economic outlook for the country—and the world—improves sharply and quickly. This outlook is not good news for either the shale industry or the supermajors in the U.S., which makes the administration’s moves concerning Saudi Arabia only logical. But nothing is certain yet. “As part of the public policy process, if you will, our interagency partners often get together and talk about a number of different items, but we’ve made no decision on this,” Brouillette told Bloomberg. “At some point we will engage in a diplomatic effort down the road. But no decisions have made on anything of that nature.”\",\n",
       " \"Despite still sluggish oil demand, China is expected to continue to build its strategic and commercial crude oil reserves with ultra-cheap oil, but this time around the rate of filling storage would be lower than in previous years, lending less support to oil prices in the current double demand-supply shock, Wood Mackenzie said on Monday. \\xa0\\xa0 China will continue to import crude oil for its commercial and strategic reserves, at a pace of up to 300,000 bpd between March and December this year, Wood Mackenzie senior consultant Lei Sun said in a statement. This rate of filling reserves, however, is less than half of the fill rate of the previous two years, therefore, Chinese stockpiling on the cheapest oil in years may not be as supportive to oil prices as it was in the past, Sun said. The key reason—limits to storage capacity, which is expected to reach a utilization rate of 90 percent this year, according to WoodMac’s expert.\\n\\ngoogletag.cmd.push(function(){googletag.display('div-gpt-ad-1555424664620-0');});\\n\\n\\n China could build a crude oil reserve of commercial and strategic stocks of as much as 1.15 billion barrels in 2020, equivalent to 83 days of oil demand, Wood Mackenzie’ analysis showed on Monday. China’s crude oil imports for refining and storage are seen at 9.5 million bpd this year, down by around 5 percent compared to the 10-million-bpd of imports last year. One reason is the filling capacity for storing crude, and the other is the still tepid fuel demand, with Chinese refinery runs expected to be lower this year compared to last year. “Weak demand and disruption caused by COVID-19 have caused China's crude runs to drop by 3.1 million b/d in February this year, leading to storage inventory build-up,” WoodMac said. Strained storage capacity could further weigh on already depressed oil prices. Global oil storage may soon be filled up, analysts warned last week, saying that at $20 a barrel, we may have not seen the bottom of oil prices yet. If storage overflows, oil may drop to $10 per barrel.\",\n",
       " 'Over-supplied markets like the oil market take prices in only one direction, down. We are seeing indications of a historically over-supplied market right now, so we expect continued weakness on the commodity front. The impact of this reality will be felt across the value stream for crude and refined products until demand begins to pick up. If you\\'re a driver of a giant pickup truck, you\\'re in for some of the happiest times of your life over the next few months. Over the short run crude will follow the law of\\xa0diminishing marginal utility\\xa0where early consumption is advantaged over later consumption of a good. Here is an example- On a hot summer day, a glass of lemonade from your neighbor\\'s kid’s lemonade stand is just the ticket. The second glass is good, but already your stomach is telling you...slow down. Forget about a third class...even if it’s free. There is a point where no matter how cute your neighbor\\'s kids are or how cheap the lemonade gets, you just can\\'t take anymore. Over time this situation rights itself and you\\'re ready for more at whatever the market price is at that time. That\\'s kind of the situation that appears to be developing post-Vienna for oil. “Storage facilities around the world are brimming with cheap oil and could run out of space within months, traders and analysts say, a predicament that could drive down crude prices to unprecedented single-digit dollar amounts.”WSJ Demand destruction This edition of the EIA-STEO gives us a first look at the effect of the coronavirus on global oil demand. This report was delayed for a day to take into account the events of March 9th where crude dropped 30 percent in a single day. This analysis shouldn\\'t come as a great surprise to anyone, and actually it may be a little optimistic (forecasts usually hit one extreme or another depending on the\\xa0bias of the forecaster). Daily we see some the major consumers of refined products, airlines-down 50-70 percent, cruise ships-down nearly 100 percent, automobile traffic-no metrics available but we\\'re using less gas, etc., taking down their forecasts of activity for the next few months. This will begin to have an impact.  Related: Not Even Higher Oil Prices Can Save U.S. Shale  EIA-STEO  Reuters/Goldman Sachs The graphics that precede\\xa0suggest strongly we have farther to fall in terms of the crude price. It hasn\\'t made a lot of news, but tankers started being booked up a couple of weeks ago. The Saudis put the ball in play with the almost immediate\\xa0chartering\\xa0of 31 VLCCs, each with a capacity of 2-mm bbl, following the breakdown of the Vienna talks. About a\\xa0dozen of these\\xa0will be headed toward the U.S. Folks that\\'s about 24 mm bbl of oil arriving in about 6-weeks. Shell, (RDS.A), (RDS.B)\\xa0has also taken\\xa0this step, chartering several VLCCs to store oil at sea. It should be noted that this is an expensive step with tanker chartering rates increasing 10-fold this month. Storage is available in refineries now with\\xa0current utilization of capacity\\xa0at ~63 percent. Concerns abound going forward though as to spare capacity being rapidly filled with cheap oil as demand suffers. “We believe we have not seen the worst of the price rout yet, as the market will soon come to realize that it may be facing one of the largest supply surpluses in modern oil market history in April,” said Rystad Energy’s Head of Oil Markets Bjornar Tonhaguen.” Reuters Remember what I said about the last marginal barrel. It\\'s worth far less than earlier barrels, meaning the price could continue to drop. One of the puzzlements of our major oil producing competitors-OPEC, and Russia, is the lack of discipline in North American shale producers. Why will they continue to produce when they are losing money, confounds them. The oligarchies involved simply cannot fathom the “Wild West” market that reigns in the U.S.\\xa0 A market with hundreds of producers, all looking to pump out as much oil as they can as fast as they can. By comparison two people have the power to control the flow of about 20 percent of global oil production in Russia and Saudi Arabia. If\\xa0Vladimir Putin\\xa0and\\xa0MbS\\xa0say close the tap, the tap gets closed jolly-quick. Of course, with the current state of affairs between them, where they’ve said...open the tap, oil floods the market. Things are so much simpler when decisions come down to just a couple of people. Please note-I am not making a case that these are best case outcome scenarios for oil markets, by any stretch. Decision making is just easier.\\n\\ngoogletag.cmd.push(function(){googletag.display(\\'div-gpt-ad-1555424664620-0\\');});\\n\\n\\n In an OilPrice article last week I discussed the near-giddy optimism that shale producers had used as their planning basis for Q-1, of 2020. I was attempting to look ahead to how deep the curtailments might become as reality settled onto the Permian producers, that the long-awaited recovery into the $60’s for WTI was still well into the future. We didn’t have long to wait for the chips to begin to fall. I was a little more pessimistic for the first week’s drop in the rig count, than what was reported by Baker Hughes on Friday, the 20th of March. I’d projected 50, it turned out to be 20, with 11 of those coming in the Permian. Still more ominous was the drop in FSs’-Frac Spreads (Frac spreads are pumps and associated equipment that provide pressure to frac the subsurface rock.), registered for the same week in the Primary Vision count, down 18 from 298 to 280. We have a lot farther to fall if the 158 count for the second quarter of 2016 is any guide. For reference WTI is currently 60 percent lower than it was when the FS count was 158. There will be another edition of the Dallas Fed Energy Survey out March 25th, and I will include updates from it in my next article. Do shale producers need government intervention? The shale producers in Texas, unable to self-regulate,\\xa0have taken the unprecedented step of asking the state to do it for them. If you needed any further proof that these folks understand that the Saudi oil-bazooka is aimed directly at them, now you have it. It is also a sign of desperation on their part as the economics of their enterprises declines into the red, West Texas dust. TNSTAAFL, (There\\'s No Such Thing As A Free Lunch). This is one of my favorite acronyms and up to this point, I would have thought my oilfield brothers and sisters understood it well. We used to. What it means in this case, help- of this sort, will leave them worse off than they perceive themselves being now. The sad thing is…all they need to do is crack a history book, or talk to one of us older oilies. It’s been tried before with disastrous consequences.  Related: Saudi Arabia’s Oil Price War Is Backfiring Production controls are the inverse of price controls,\\xa0last time tried with oil in the early 1970\\'s, ironically in response to actions by Saudi Arabia to bolster prices of crude oil. Anybody remember how that worked? I do. It was a train-wreck that threw monster distortions into the market, from which it took the better part of decade to recover.  EIA Note the direction of the curve between the years, 1970-80, and you have your answer. Incentives to drill and produce here in the U.S. were largely destroyed. This idea is probably only topped in absurdity by the one that came after it.\\xa0 The\\xa0Windfall Profits Tax\\xa0of the 1980\\'s. As an ex-crude oil buyer for an independent refinery in the early 1980\\'s, I could tell you stories about the corruption and chicanery this act of federal idiocy engendered. Come to think of it…the statute of limitations has passed and I just may pass along a few stories in future articles. A final thought on the topic of government intervention, whether at the state or federal level. It won’t go well. It never does. I hope Texas oil producers stop short of actively pursuing it. Collaboration with OPEC, is it feasible? Wrapping up this section with a final gem that made the news last week, we need to chat about collaboration between OPEC and Shale\\xa0producers. To be honest, this is a little hard to take seriously. The idea is simply too absurd, and I think calmer heads will prevail before any serious discussions begin.\\xa0 The Texas Railroad Commissioner, Ryan Sitton has been in touch with the Secretary General of OPEC, Mohammed Barkindo about curtailing production to shore up prices. “Just got off the phone with OPEC SG Mohammed Barkindo. Great conversation on global supply and demand,” Mr. Sitton said on Twitter. “We all agree an international deal must get done to ensure economic stability as we recover from COVID-19.“ The Texan official said the OPEC chief had invited him to the next meeting of the organization in June.” WSJ Bottom-line, these two parties have nothing in common save for the desire for a higher oil price. That is not a basis to form a cartel, which would be illegal in this country anyway.\\xa0 OPEC and U.S. Shale compete for many of the same customers and the thought that under U.S. laws they could \"work\" together toward the common goal of raising prices or restricting production is just not feasible. The future of shale I am convinced it has a future, but the days of boundless expansion are behind it. There will be a period of consolidation as stronger companies take over assets of those who weren’t prepared for the Black Swan event we are living through now. Failure is a part of the Free Enterprise system. It’s part of what made it great.\\xa0 I can best quote my own words from a prior OilPrice article to close out this section. “The future of shale belongs to big companies with;\\xa0Great rock, naturally advantaged oil-prone reservoirs,\\xa0Superior technology, the ability to frac in 4D as an example,\\xa0Logistical advantages, raw material supply chain in basin,\\xa0Low cost of production, relates to naturally advantaged reservoirs, but includes the ability to drill more wells with less money than competitors,\\xa0Economy of scale, massive acreage positions that enable multi-well pads for efficient draining of the reservoir.” Grab your nitro tabs and pop an 80 mg aspirin (with your doctor’s coordination of course!), we’re going to talk about throwing more capital at the oilfield. It has been so long since the oilfield had a winning day, I’m a little out of practice. But, I think we’ve seen a bottom and it’s time to make some money. Let’s start with Big Red,\\xa0Halliburton, (NYSE: HAL). They\\xa0bit the bullet last fall and began writing down their shale fracking equipment. There will be more of that this quarter, I predict.\\xa0 Last week the company announced the\\xa0furloughing of 3,500\\xa0employees. This is a positive sign as it conserves cash and maintains a core of key employees. The only reason to do this is the company expects to need their skills in the not too distant future. Liquidity is the key here in making an investing decision. Generally improving international markets had allowed the company to build a $2.3 bn cash position by year end in 2019. Additionally it has $3.5 bn on a credit line available. For 2019 Cash flow covered capex, dividends and stock buybacks. Look for capex, dividends and stock buybacks to be eliminated this quarter, providing the company with ample liquidity over the next year. In 2021 it has a big debt maturity-$697 mm, followed by a year of no debt coming due. In short, I don\\'t think the company faces a solvency crisis as revenues crash this quarter. This makes the stock as current prices an outstanding buy. I will be looking to add HAL at these levels, ~$5.00/share. Shell\\xa0(NYSE: RDS.A, RDS.B) is a buy in the low $20s as well. I\\'ve quit using words like \"steal,\" as the price of a stock seems to go down every time I do. That said, I think the company is ridiculously underpriced where it is now, and a\\xa0rebound back into the $40\\'s will come rapidly when oil crests $30 again. Shell, RDS.B is one of my largest holdings. You will note that the company\\'s dividend is above 15 percent at current prices. Let\\'s put some risk on the table of a dividend cut or suspension, so we are not looking at Shell for the dividend. (Although, given its almost unmatched dividend record since WW-2 the company has some \"prestige,\" incentive to maintain it.) It could choose to restore the scrip dividend that was cancelled a couple of years ago. This is dilutive but it saves cash, making it my guess as being the way they would go. Liquidity is always on the table at this juncture in the market. Shell has a combination of cash and credit lines of about\\xa0$18 bn of liquidity and free cash flow of about $20 bn.\\xa0Shell has no immediate liquidity concerns. Capex and stock buybacks will be slashed and suspended. Some of this was already in the works as of the Q-4 call. As a Dutch company, should the need arise,\\xa0the government of the Netherlands, would surely step in to maintain the company\\'s\\xa0viability as well. I am not buying on Monday though.\\xa0The shares have rebounded 20 percent from absurdly low levels. We will have a rout or two the coming week, and those days will be the ones to watch to maximize eventual returns. Note-\\xa0Shell has two classes of stock A, and B. I buy only the B as it is not subject to the 15 percent Dutch withholding tax. Taxes on the A can possibly be reclaimed on your U.S. return, but why add complexity, buy the B. Governments around the world are adapting to the new\\xa0viral-reality. Trade is impacted, reducing demand. This won\\'t last forever and as things begin to return to normal demand for oil will pick up. Given the huge storage problem we are about to have, it will take some time before inventory levels come down though, enabling prices to rise to more sustainable levels. The basic thesis for hydrocarbons remains intact despite the current fall-off in demand. They\\xa0supply\\xa0an irreplaceable amount of energy for many key uses, transportation and power generation key among them. Nothing on the horizon changes that equation for decades. As the global economy recovers, this energy will be needed. It will likely come at higher prices that will enable producers to make a profit, which will of course then result in over production and a future price crash. It’s not called a “cyclic industry” for no reason.',\n",
       " \"The Covid-19 virus and the ongoing oil price war have created such a large global supply surplus that Western Canada’s oil production will need to be cut from April by some 11%, or 440,000 barrels per day (bpd), Rystad Energy estimates, as the country is days away from running out of available storage capacity. Western Canada’s storage infrastructure has a generally accepted maximum storage capacity of approximately 40 million barrels. Based on our calculations, more than 30 million barrels of crude oil and diluted bitumen is already held in storage, and the volume is likely to edge towards the high end of capacity by the end of March under current production assumptions. As a result, Western Canada’s oil production, which Rystad Energy expected to reach some 4 million bpd in its pre-coronavirus estimate, will now probably have to be cut by a total of 440,000 barrels to balance local storage volumes around 35 million barrels. This incorporates at least a 75% reduction in crude-by-rail exports to 100,000 bpd. In the second quarter last year, Western Canada’s oil production amounted to about 3.94 million bpd.\\n\\ngoogletag.cmd.push(function(){googletag.display('div-gpt-ad-1555424664620-0');});\\n\\n\\n “Compounding the situation is the near-certainty of a steep reduction in crude-by-rail exports this year, as well as deferral of spring maintenance at several key oil sands mining projects,” says Thomas Liles, Rystad Energy’s Senior Analyst.  Related: Do Saudi Arabia And Russia Really Want To Kill U.S. Shale? On 11 March, Alberta Premier Jason Kenney raised the possibility of production curtailments, but reductions have not yet been officially announced by the provincial government. If the cuts occur due to government policy they will likely apply to the biggest operators (as was the case for government-mandated curtailments in 2019), but some operators may cut production on their own as well due to coronavirus-related staffing issues and demand insufficiency. So far, most operators have not been very vocal on the issue of near-term cuts, although some of the major players have revised their full-year production guidance downwards. Canada also produces oil offshore Newfoundland and Labrador on its east coast, where on 22 March Husky Energy announced it was suspending construction activities at its West White Rose expansion to prevent the spread of Covid-19 among construction staff.\",\n",
       " \"U.S. President Donald Trump is facing increasing calls from some U.S. senators and congressmen to pressure Saudi Arabia into ending the oil price war, with one of his own Republican party - Senator Kevin Cramer – last week urging him to impose an embargo on oil imports from Saudi Arabia, Russia and other OPEC nations. It is not because the U.S. shale producers cannot deal with a much lower sustained oil price environment as they can. It is because in order to cope with this environment, capital expenditure will have to be trimmed back to the sorts of ratios seen the last time that the Saudis tried the same thing from 2014 to 2016. The U.S. shale sector won last time and it will win this time (along with Russia) but behind the scenes, the U.S. Presidential Administration is also being advised that it already has the ultimate weapon to make Saudi Arabia end the oil price war right now, OilPrice.com understands from legal sources in Washington. The weapon is the ‘NOPEC Bill Bomb’. The ‘NOPEC Bill Bomb’ refers specifically to the ‘No Oil Producing and Exporting Cartels Act’ (NOPEC) that was last threatened by the U.S. in October 2018 when the Saudis had enabled the Brent oil price to remain above the key US$70 per barrel level since March. Any sustained Brent price above US$70 per barrel was – and is – regarded by the current Presidential Administration as being in an area where the benefits to U.S. shale producers of higher prices are outweighed by the relative damage done to the U.S. economy. More specifically, it is estimated that every US$10 per barrel change in the price of crude oil results in a 25-30 cent change in the price of a gallon of gasoline, and for every 1 cent that the average price per gallon of gasoline rises, more than US$1 billion per year in consumer spending is lost. As Bob McNally, the former energy adviser to the former President George W. Bush put it: “Few things terrify an American president more than a spike in fuel [gasoline] prices.” In any year, this is bad news for the sitting U.S. President but at that specific point in 2018 when the U.S. (in March) was looking to re-impose sanctions on Iran just a couple of months later “it looked like Saudi was taking advantage of the U.S. position, rather than helping its most important ally,” as one senior Washington-based legal source told OilPrice.com last week. “It came at a time when we were concerned anyway that the Saudis were becoming too dependent on Russia because of the OPEC-plus deals and were listening too much to its [Russia’s advice],” he added. With the oil price during the March-October period consistently well above US$70 per barrel of Brent and in September trading at nearly US$85 per barrel and looking like it was going higher, Trump warned Saudi Arabia’s King Salman that: “He would not last in power for two weeks without the backing of the U.S. military.” This was also the occasion when the Saudis were remainder of the NOPEC Bill, according to the legal sources in Washington.\\n\\ngoogletag.cmd.push(function(){googletag.display('div-gpt-ad-1555424664620-0');});\\n\\n\\n  Related: Russia Moves In On European Gas Markets As Oil Prices Crash Specifically, the NOPEC bill would make it illegal to artificially cap oil (and gas) production or to set prices, as OPEC and Saudi Arabia do. It would also now work as a very neat trick to prevent Russia from resuscitating OPEC+, rather than just OPEC, as if it did then it too would face the consequences of the NOPEC Bill, once it was approved and became the NOPEC Act. The bill would also immediately remove the sovereign immunity that presently exists in U.S. courts for OPEC as a group and for each and every one of its individual member states. This would leave Saudi Arabia, for instance, open to being sued under existing U.S. anti-trust legislation, with its total liability being its estimated US$1 trillion of investments in the U.S. alone. The U.S. would then be legally entitled to freeze all Saudi bank accounts in the U.S., seize its assets in the country, halt all use of U.S. dollars by the Saudis anywhere in the world (oil, of course, to begin with, is denominated in U.S. dollars), and to go after Aramco and its assets and funds, as it is still a majority state-owned production and trading vehicle. It would also mean that Aramco could be ordered to break itself up into smaller, constituent companies that are not deemed to break competition rules in the oil, gas, and petrochemicals sectors or to influence the oil price. Up until recently, the bill was progressing at a pace through the U.S. system and came very close indeed to being passed into law before Trump stepped in and vetoed it after the Saudis did what he told them to do. In February of last year, the House Judiciary Committee passed the NOPEC Act, which cleared the way for a vote on the Bill before the full House of Representatives. On the same day, Democrats Patrick Leahy and Amy Klobuchar and – most remarkably – two Republicans, Chuck Grassley and Mike Lee, introduced the NOPEC Bill to the Senate. Even before this, the full approval of the Bill has only been stopped by the President. In 2007, the full House of Representatives and Senate passed the NOPEC legislation and it was passed again in 2008 by the House. In terms of presidential views on the Bill, George W. Bush always threatened a veto and Barack Obama opposed it, but Trump has veered from initially being against it to being a lot less clear.  Related: Rig Count Plummets As Oil Price War Rages On Aside from the various threats to King Salman whenever oil prices have come near to the US$70 per barrel level, and the increasing omni-toxicity of Saudi Crown Prince Mohammed bin Salman – documented here - Trump also, understandably, has a big problem with OPEC. Since the U.S. unilaterally withdrew from the Joint Comprehensive Plan of Action (Iran nuclear deal) in May 2018, Trump has regarded OPEC and Saudi as “looking to take advantage of the short term supply constraints [at that time] that resulted from the U.S.’s attempts to force Iran back to the negotiating table for a better deal for the U.S. by imposing sanctions on it,” according to one of the Washington-based legal sources. In addition to telling Saudi Arabia’s King Salman that he and his family would not be in power without U.S. support – entirely true, incidentally – Trump also blamed OPEC via Tweets for the 2018 multi-month oil price spike. He said: “Looks like OPEC is at it again. With record amounts of Oil [sic] all over the place, including the fully loaded ships at sea, Oil [sic] prices are artificially Very High [sic]! No good and will not be accepted!” He later added at the U.N. General Assembly in September 2018 that OPEC is “ripping off the world.” Shortly after this, Trump told reporters when asked about the NOPEC Bill specifically: “The United States is firmly committed to open, fair, and competitive markets for global energy trade. We do not support market-distorting behaviour, including cartels.” Quod erat demonstrandum.\",\n",
       " \"Saudi Arabia and Russia must have anticipated an oil price crash when they broke up their three-year-long bromance to push up oil prices.\\xa0\\xa0\\xa0 Two weeks later and nearly 4 million bpd of total promised additional oil supply to the market next month, and Riyadh and Moscow are now counting the cost and trying to adjust government spending. The friends-turned-foes expect sharp drops in oil revenues in the near term, not only because Brent Crude is barely managing to cling to the $30 mark these days, but also because the coronavirus pandemic is leading to huge demand destruction.\\xa0\\xa0 Saudi Arabia announced this week that it is reducing government expenditures by US$13.2 billion (50 billion Saudi riyals), or nearly 5 percent of its budget spending for 2020 after the government approved “a partial reduction in some items with the least social and economic impact.”\\xa0 These measures were approved “in light of the noticeable development in the public finance management, and the existence of the appropriate flexibility to take measures in the face of emergency shocks with a high level of efficiency,” says Saudi Minister of Finance and Acting Minister of Economy and Planning, Mohammad Al-Jadaan, the official Saudi Press Agency reported.\\xa0 The Kingdom “has taken measures to reduce the impact of low prices of oil, and additional measures will be taken to deal with the expected drop in prices,” Saudi Arabia says, nothing that additional expenditures could be re-evaluated and potentially cut.\\xa0\\xa0  Related: The Reason Why Russia Refused To Cut Oil Production Even before the collapse of the OPEC+ talks, Saudi Arabia’s finance ministry had asked government agencies to propose a 20-30 percent cut in their budgets due to the oil price slide, Reuters reported last week, citing four sources with knowledge of the plans. \\xa0 It looks like Saudi Arabia bets on tapping cash from its sovereign wealth fund to patch up government finances with oil prices three times lower than their break-even oil price.\\xa0 According to Fitch Ratings, Saudi Arabia needs oil prices at $91 a barrel in 2020 to balance its budget, all else being equal.\\xa0\\n\\ngoogletag.cmd.push(function(){googletag.display('div-gpt-ad-1555424664620-0');});\\n\\n\\n “For countries in the Gulf Cooperation Council (GCC), we estimate that a change of USD10 in the price per barrel of oil tends to affect government revenues by 2%-4% of GDP,” Fitch said last week. The rating agency’s statement came a day after oil prices crashed by 25 percent as Saudi Arabia – a GCC member, OPEC’s top producer, and the world’s top oil exporter – vowed to significantly boost supply and slashed the price for its oil in a dramatic shift in its oil price-fixing policies of the past three years.\\xa0 The Kingdom is signaling that it can adapt to today's lower oil prices, but analysts are not buying this claim.\\xa0 At $30 a Brent barrel, the Saudi wealth fund will deplete fast and reduced government spending will stall projects, and the already suffering private non-oil sector will suffer further. That’s the near-term damage.\\xa0 The longer-term damage is the lack of funds for the ambitious Vision 2030 plan of Saudi Crown Prince Mohammad bin Salman, which was already going downhill even before the oil price collapse as the promised multibillion foreign investment and Saudi investment in “diversifying away from oil” weren’t exactly flowing to the Kingdom.\\xa0 “I think we are beginning to see that the vision 2030 is not going well,” \\xa0 Jean-François Seznec, Non-Resident Senior Fellow at Atlantic Council, said on an Atlantic Council press call last week.\\xa0 There is a growing amount of tension among the population, even among the crown prince’s main supporters, Seznec said.\\xa0 “But he needs to make a big impact.\\xa0Now, his big impact is to force the Russians to give up and agree to the cuts, and if at the same time it destroys the U.S. shale industry so much the better,” Seznec noted.\\xa0  Related: Big Oil Prepares To Suffer In 2020 The Russians are also bracing for an oil price war, promising up to a 500,000 bpd production increase and assuring the market they have enough resources to cover budget shortfalls at $25-30 oil for six to ten years.\\xa0 \\xa0 The coronavirus pandemic and the lower economic activity, coupled with oil prices half the level before Russia and Saudi Arabia broke up the OPEC+ pact, will weigh on Russia’s revenues and budget, too.\\xa0 Russia’s revenues from oil and gas will be US$39.5 billion (3 trillion rubles) lower than planned, Russian Finance Minister Anton Siluanov said this week, adding that Moscow now expects a budget deficit.\\xa0 Analysts argue that Russia is in a better fiscal, financial, and political leadership position than Saudi Arabia to win the oil price war.\\xa0 Yet, there will undoubtedly be economic pain for both sides in this war, which is already claiming the first collateral victims—U.S. shale, Canada’s oil industry, and the UK’s offshore oil and gas sector.\\xa0 It’s now a game between Saudi Arabia and Russia of who will blink first, and in this game, the Saudis seem to have overestimated their fiscal buffers and underestimated the coronavirus-hit enormous demand destruction.\\xa0\",\n",
       " '',\n",
       " \"Legendary oil trader Andy Hall is happy to be out of the oil market, which he sees as a ‘broken’ commodity on the road to demise in the long term. Hall, who was nicknamed ‘God’ for profitably predicting oil prices in the past, has been out of the oil trading business for more than two years, and he doesn’t have any plans to return because he sees oil as a commodity with an existential problem, Hall told Bloomberg in a phone interview. \\xa0\\xa0 The legendary oil trader had bet on higher oil prices for more than a decade, and he continued to hold his bullish view even after the 2014 oil price crash. But in the summer of 2017, he closed his main fund Astenbeck after the fund posted double-digit losses. For some time, Hall has expressed bearish views on oil, saying that oil demand will peak by 2030 due to the advance of renewables and electric vehicles (EVs).\\n\\ngoogletag.cmd.push(function(){googletag.display('div-gpt-ad-1555424664620-0');});\\n\\n\\n With oil prices crashing to multi-year lows, Hall now told Bloomberg: “Oil is a broken commodity that’s in long-term decline.” Oil prices tumbled to 18-year lows earlier this week as the market is being hit by a double shock—surging supply and plunging demand. While the coronavirus pandemic is destroying demand, Saudi Arabia is preparing to flood the market with oil in April, intent to punish Russia for refusing to back deeper OPEC+ production cuts earlier this month. Russia is not backing down either and is also promising to increase production as of April 1. “Now with this crisis, demand has been decimated in the short term and that’s just adding to the longer-term problem,” retired trader Hall told Bloomberg, noting that his view of the existential problem of the crude oil commodity made him get out of it.\\xa0\\xa0 “Could oil prices double from here? Easily, but it won’t stay there,” Hall told Bloomberg.\",\n",
       " \"Global oil demand is set to plunge by more than 10 percent from the typical 100-million-bpd consumption, as the raging coronavirus pandemic forces countries into lockdown, according to the world’s biggest independent oil trader, Vitol. \\xa0 “Demand destruction this year depends on how many countries follow an Italian-style lockdown. The drop in Italian consumption has been dramatic. If you extrapolate it to the rest of Europe, and particularly the U.S., then you can get as bearish as you like,” Giovanni Serio, head of research at Vitol, told Reuters on Friday. According to the executive at the largest oil trader in the world, a 10-percent drop in U.S. demand would mean a 2 million bpd loss in consumption. Currently, an Italy-style lockdown in the United States is not Vitol’s base case, but if Covid-19 infections spiral out of control, there could be drastic measures coming that would destroy a lot of oil demand.\\n\\ngoogletag.cmd.push(function(){googletag.display('div-gpt-ad-1555424664620-0');});\\n\\n\\n California, for example, is already under lockdown, after ordering on Thursday its 40 million residents to stay at home unless they have an essential reason to go out. In Europe, lockdowns in Italy, Spain, and France are crushing oil demand, German traffic is down 40 percent, and if the UK takes more measures to curb domestic travel, around 40 percent of Europe’s 7-million-bpd demand is at risk, Vitol’s Serio told Reuters. One a positive demand note, activity in China is resuming and Beijing is a major beneficiary of the crumbling oil prices, according to Serio. While China recovers from a demand slump, the worst for the rest of the world has yet to come, and analysts are already expecting zero or negative demand growth this year. \\xa0 It’s not certain that a Chinese buying spree of cheap crude oil could sustain the heavily depressed market for long either, because the world is running out of storage, which could send oil prices crashing into the teens and even to $10 a barrel. \",\n",
       " 'The federal government of Canada is preparing a multibillion dollar financial aid package for the oil and gas industry and could announce it as soon as next week, the Globe and Mail reports, citing unnamed sources. Among the measures discussed were access to more credit, especially for smaller businesses, and job creation for the workers who will likely be laid off amid the price crisis. One source told the Globe and Mail that Ottawa has prepared US$10.43 billion (C$15 billion) in financial aid for the industry, which, already struggling with low local crude prices, a pipeline shortage and a hostile investment environment has now been brought to its knees by the combination of weak demand created by the Covid-19 outbreak and the oil price war started by Saudi Arabia earlier this month.\\n\\ngoogletag.cmd.push(function(){googletag.display(\\'div-gpt-ad-1555424664620-0\\');});\\n\\n\\n The local benchmark, Western Canadian Select, yesterday dived to $5.430 a barrel, losing more than 50 percent of its value in a day. Also yesterday, Premier Jason Kenney warned that t Alberta’s oil and gas industry was “on life support”. \"We must begin to prepare ourselves for a time of adversity unlike any we have seen since the 1930s in this province,\" Kenney told media, after earlier this month he announced plans for government support for oil and gas companies focusing on low-interest credits until the worst of the crisis passes. The provincial government has been discussing the credit aid package with Ottawa, too. The industry is taking part as well. The Globe and Mail reports a letter signed by 65 industry executives asking Prime Minister Justin Trudeau to set up an equivalent to the U.S. Troubled Asset Relief Program and use it to buy distressed assets. In addition, the industry is asking for a suspension of the carbon tax and all income taxes. “Our companies collectively represent over 100,000 working Canadians,” the executive wrote. They called for \"all levels of government to work together toward one goal: no Canadian, household, business or organization is left worse off than where they were when this crisis began.”',\n",
       " \"Every gambler knows That the secret to survivin’ Is knowing what to throw away And knowing what to keep ‘Cause every hand’s a winner And every hand’s a loser And the best you can hope for is to die In your sleep. Source:\\xa0LyricFind Songwriters: Don Schlitz The Gambler lyrics © Sony/ATV Music Publishing LLC After much rumour and speculation surrounding the OPEC+ meeting, the commencement of a global oil war was confirmed by Russia’s Energy Minister Alexander Novak when he said post meeting “Considering the decision taken today, from April 1 of this year onwards, neither we nor any OPEC or non-OPEC country is required to make (oil) output cuts.” With this action, Russia signalled its intentions to take on OPEC, its leader Saudi Arabia and to attempt to deal a death blow to a US shale industry that is already on its knees. Russia has long been negative towards OPEC+ production cuts. Whilst it has provided an environment of stable higher oil prices that have allowed it to become debt free and return to budget and trade surplus, the higher prices has also provided a free pass to the debt fuelled US shale industry to keep increasing production unfettered, to the point of overtaking Russia and Saudi Arabia and becoming the world’s largest oil producer. Recent actions though have no doubt stoked Russia’s grievances to the point that it is willing to risk a protracted and all-out oil price war against two superior opponents. On the Saudi side, Russia has long felt that artificially propping up oil prices by the Saudi led OPEC has given its old foe the US the ability to become an oil exporter for the first time in decades and thus become a serious competitor to traditional export markets. Secondly, rather than the mooted investment in Siberian gas projects, Saudi Arabia announced the Jafuria Shale Project – the biggest shale project outside the US, which would allow Saudi Arabia to become a net gas exporter whilst freeing up oil supplies for export that had previously been used for domestic power generation. At the same time, Putin is pressuring Riyadh (and indirectly Abu Dhabi) to get more in-line with Russia’s operations in MENA, especially Syria and Libya. By “breaking OPEC+”, Putin has shown his willingness to take high risks to support his other strategic goals too. On the US side, aside from the shale industry’s continued existence, Russia has felt aggrieved at the meddling of the US and the sanctions imposed by them on state-backed enterprises of Rosneft for trading with Venezuela and Nord Stream 2 to supply gas into Europe. As most aggrieved parties do, Russia believes that it has ‘right’ on its side and views itself as being in a relatively strong position. Three years of stable oil prices has provided the Russians with a certain amount of firepower and the belief that it can withstand oil prices at between $25 to $30 per barrel for the next 6 to 10 years. In taking this view, Putin is gambling on a couple of assumptions.\\n\\ngoogletag.cmd.push(function(){googletag.display('div-gpt-ad-1555424664620-0');});\\n\\n\\n  Related: WTI Rallies 24% In Panic Stricken Markets Firstly, that Saudi Arabia, who is embarking on large and expensive structural changes to the country and its economy, lacks the ability to maintain a protracted price war when they need $80 per barrel to balance their budget and fund their expensive structural changes. With ‘perceived internal pressure’ on MBS continuing from inside the Royal Family, Putin may believe that the time is right. Whilst true that the Saudi budget requires $80 per barrel to balance its budget, it is not a requirement that it does so. Saudi Arabia has deep cash reserves, a cashed up Sovereign Wealth Fund, the Public Investment Fund (‘PIF’), which is owner of SABIC and Aramco, and a far greater ability than Russia to borrow in the global financial markets. The Saudi Government has been gaming scenarios where oil drops to $12 to $20 per barrel and has been making its moves accordingly. Secondly, Putin plays on Trump’s view that the key to his re-election is the performance of the US economy and the living standards of ‘his’ voters Trump has always been very vocal fan of lower gasoline prices as a ‘free tax cut’ to the US economy. Trump, whilst being a vocal supporter of the US Energy Industry, also feels no pressure to immediately ride to their rescue, as he is safe in the knowledge that he will always have their support whilst a Democrat White House would mean industry Armageddon.\\xa0  And by some perverse circumstance, Putin has an accomplice in Saudi Arabia, who having tried and failed between 2014 and 2016, is not against piling on the US shale industry and having a free-kick whilst Russia shoulders the blame. Remembering back in June/July 2018 we saw that Saudi Arabia was a victim of the ‘Trump two-step’ when encouraged to pump more oil by Trump to drive prices down and help out him domestically, as he placed sanctions on Iran. Saudi complied, only to see immediate and significant waivers granted to purchasers of Iranian oil and the oil price collapse from $75.  The Saudi response has been one of ‘shock and awe’ – with Saudi immediately offering barrels into the market with discounts of between $6 and $10 per barrel and Aramco’s \\xa0announcement yesterday to the Saudi Stock Exchange that from the 1st of April they will provide customers with 12.3 million barrels a day – and additional 2.6 million barrels per day (~27% increase) from current production levels. As we know, Aramco has never been seen to be producing more than 12 million barrels per day. Increasing production by 2.6 million barrels per day requires some technical issues not yet solved. Whilst there is doubt as to whether these numbers can be achieved (and for how long), it is our expectation that they will dip into their reserves to meet these targets – a sign of the commitment to their ‘shock and awe’ tactics. Whilst this ‘shock and awe’ tactic taken to be a direct response at the Russian oil industry, with the aim of bringing Russia quickly to heel, Russia may see this as somewhat of a tactical victory. With Russia only able to increase their production modestly (between 200,000 and 500,000 barrels per day), they may see that Saudi’s 27% increase in barrels offered as being able to deal the fatal blow to the US shale industry that it can’t. They would certainly have been encouraged by the report by Lloyds overnight that Saudi state run shipping company Bahri has been active in procuring 10 VLCCs for late March loading (with a combined capacity of 20 million barrels), in addition to its own 41 tankers, on rates of up to $197,500 per day, to flood the US market. Appreciating his best chances lie in a quick victory, Russia has kept the doors of communication open with high ranking officials on both sides are continuing discussions to find a solution. Former Saudi Minister of Energy Khalid Al Falih and his Russian counterpart Novak are still not intending a full-scale crash of oil in the end. But, as Putin hopes to turn the short-term tactical successes of destroying production curtailments, pressuring MBS and the Saudi budget and killing US shale into long-term strategic victories, significant risks abound for all players, especially Russia in a protracted war. Whilst steady oil prices has seen Russia’s budget and trade surplus build up cash reserves in excess of $500 billion, combined with structural changes that has seen the budget break-even lowered to between $40 and $50 per barrel, Russia’s weak currency and still greater than 40% dependence on oil income, poses significant risks if this oil war is protracted. Since the oil price slide commenced, the Rouble has depreciated 23% against the US dollar.  Related: U.S. Oil Industry Could End Up Losing More Than 200,000 Jobs Far from being a coalition builder, Russia is a lone wolf on the world stage. No longer the super-power it once was, it has been reduced to being a big player on the sideline - meddling in the affairs of the world’s problem children such as Syria, Venezuela, Libya and Ukraine. Military is prohibitively expensive and with military intervention in multiple locations, Russia will soon realise that the cost of budget promises combined with military intervention hubris, will bring significant pressure quickly on the seemingly rosy budget position. The same can be said for Saudi Arabia’s Yemen excursion. Russia’s lack of allies that have the capacity to trade with them, invest in them or provide financial assistance to them will be telling on Russia. Saudi Arabia has the much greater position of being able to rely on allies and to being able to borrow in the global financial markets at a much cheaper rate and with greater capacity. Russia’s dwindling reserves of hard currency, dwindling oil receipts and lack of financially viable allies that can assist will be telling as this crisis continues. Russia’s greatest risk is that, in an attempt to kill the US shale industry, that the damage done in the short-term effects the overall economic narrative of Trump, and for the sake of his re-election prospects he is forced into intervening on behalf of the US shale industry. In this, Trump has the flexibility of direct or indirect action, both of which would have a devastating effect on Russia. Trump has the ability to intervene directly by providing direct subsidies, loans, assistance or even equity purchases to support the shale industry participants. Direct action such as this would signal to Russia (and Saudi Arabia) that the shale industry will survive and “perceived” energy independence is a cornerstone of his economic agenda. Russia (and Saudi Arabia) will then have to consider the position of going to war to kill an industry that has the support of the one player with deep and limitless pockets. But, more devastating to Russia still, would be the indirect actions that Trump could take – which would completely take down Russia on a structural level. Trump could begin with strategy right from his play-book and enforce a round of trade sanctions on imported oil. This would in the short-term shore up the local shale industry and curtail capacity dumping on the US. But, the nightmare scenario for Russia would be that Trump imposes economic sanctions on Russia, similar to Iran and Venezuela, that would limit or completely stop its ability to sell oil and gas, trade, borrow and receive at both a country and a personal level. This would be the smart play by Trump, which would use the least political capital, would provide a nationalistic argument to support and protect the Energy Industry and US sovereignty from attack and blunt any environmental flack for supporting the Energy Industry. This is a tool that is being used in limited circumstances by Trump now, with sanctions on Rosneft’s trading arms, sanctions on Nord Stream 2 and the banning of US nationals from buying or dealing in Russian Sovereign Debt. We have seen the response of Russia to this limited action – one can only imagine a widescale imposition of economic sanctions. Of course, Russia may choose to ignore these risks, as they have been doing, taking the view that the tactical considerations take precedence over the strategic ones as the effects of these sanctions have not been strongly felt whilst the oil price has been supported by OPEC+ and receipts have plentiful. But that would be a grave error as we have seen the effects of total US economic sanctions on Venezuela and Iran – the incessant constriction of every facet of the country’s fabric of society. And, unlike Russia, the US is in the unique position to enforce its will on the global community – cutting Russia off – with no coalition supporters with the means or will to help break any sanctions imposed. Russia will then realise that strategic errors cannot be overcome by tactical victories. Russia has a short-term window before The Gambler’s words ring true: Son, I’ve made a life Out of readin’ people’s faces Knowing what the cards were By the way they held their eyes So if you don’t mind me sayin’ I can see you’re out of aces.\",\n",
       " \"Saudi Arabia continues to signal to the market that it is not backing down from the oil price war despite the crumbling oil prices amid coronavirus-hit demand and promises of huge extra supply next month. \\xa0 Oil giant Saudi Aramco will proceed with the reduction of its refinery rates in Saudi Arabia in April and May in order to free up more crude oil for exports, an official at the company told Reuters on Thursday. Saudi Arabia will continue to supply a record 12.3 million barrels per day (bpd) to the oil market in the coming months, as per order from the energy ministry, the official Saudi Press Agency reported on Wednesday.\\n\\ngoogletag.cmd.push(function(){googletag.display('div-gpt-ad-1555424664620-0');});\\n\\n\\n The Kingdom is intent on unleashing growing crude oil volumes on the market, aiming to significantly boost its crude oil exports to a record-breaking more than 10 million bpd in May. \\xa0 The Saudis, who launched an all-out price war for market share with Russia after Moscow refused to back deeper cuts, will not only boost April exports from the current 7 million bpd, but will also grow exports in May by another 250,000 bpd from April. After the collapse of the OPEC+ production cut deal, OPEC’s de facto leader and the world’s top oil exporter, Saudi Arabia, promised to flood the market with crude oil as of April 1, sending oil prices into a tailspin and weighing heavily on the market which is being battered by an unprecedented demand shock amid the coronavirus pandemic. Oil prices naturally reacted to this double whammy of supply and demand shock and crashed to 18-year lows on Wednesday. Analysts say that $20 oil may not be the bottom as the markets continue to panic with a growing number of countries going into lockdown and restricting domestic and international travel. Some analysts say oil prices in the teens are not far off, while Paul Sankey, managing director at Mizuho Securities, said “Oil prices can go negative” in a note this week, as carried by Fox Business.\"]"
      ]
     },
     "execution_count": 50,
     "metadata": {},
     "output_type": "execute_result"
    }
   ],
   "source": [
    "news_text"
   ]
  },
  {
   "cell_type": "code",
   "execution_count": 62,
   "metadata": {},
   "outputs": [
    {
     "data": {
      "text/html": [
       "<div>\n",
       "<style scoped>\n",
       "    .dataframe tbody tr th:only-of-type {\n",
       "        vertical-align: middle;\n",
       "    }\n",
       "\n",
       "    .dataframe tbody tr th {\n",
       "        vertical-align: top;\n",
       "    }\n",
       "\n",
       "    .dataframe thead th {\n",
       "        text-align: right;\n",
       "    }\n",
       "</style>\n",
       "<table border=\"1\" class=\"dataframe\">\n",
       "  <thead>\n",
       "    <tr style=\"text-align: right;\">\n",
       "      <th></th>\n",
       "      <th>Headline</th>\n",
       "      <th>News</th>\n",
       "    </tr>\n",
       "  </thead>\n",
       "  <tbody>\n",
       "    <tr>\n",
       "      <td>0</td>\n",
       "      <td>Oil Prices Slide As Saudi Arabia Confirms Anot...</td>\n",
       "      <td>Saudi Arabia is not backing down from the oil ...</td>\n",
       "    </tr>\n",
       "    <tr>\n",
       "      <td>1</td>\n",
       "      <td>SP Cuts Oil Nations Ratings.html</td>\n",
       "      <td>Several oil-producing nations woke up to lower...</td>\n",
       "    </tr>\n",
       "    <tr>\n",
       "      <td>2</td>\n",
       "      <td>Is This The Beginning Of The End For Texas Oil...</td>\n",
       "      <td>Widespread misery was evident in the Dallas Fe...</td>\n",
       "    </tr>\n",
       "    <tr>\n",
       "      <td>3</td>\n",
       "      <td>The Permian Boom Is Going Bust.html</td>\n",
       "      <td>Oil companies are already beginning to pare ba...</td>\n",
       "    </tr>\n",
       "    <tr>\n",
       "      <td>4</td>\n",
       "      <td>Worlds Largest Oil Trader Says Demand Could Pl...</td>\n",
       "      <td>A dramatic change in oil demand coupled with a...</td>\n",
       "    </tr>\n",
       "    <tr>\n",
       "      <td>5</td>\n",
       "      <td>How Far Will Trump Go To Save US Shale.html</td>\n",
       "      <td>The U.S. is today showing signs of increased d...</td>\n",
       "    </tr>\n",
       "    <tr>\n",
       "      <td>6</td>\n",
       "      <td>What Happens If US Shale Goes Bust.html</td>\n",
       "      <td>This month has seen a spectacular oil price cr...</td>\n",
       "    </tr>\n",
       "    <tr>\n",
       "      <td>7</td>\n",
       "      <td>This Supermajor Is About To Slash Permian Oil ...</td>\n",
       "      <td>Chevron is slashing capital expenditures, espe...</td>\n",
       "    </tr>\n",
       "    <tr>\n",
       "      <td>8</td>\n",
       "      <td>Saudi Arabia And The US Could Form The Worlds ...</td>\n",
       "      <td>The United States and Saudi Arabia have been d...</td>\n",
       "    </tr>\n",
       "    <tr>\n",
       "      <td>9</td>\n",
       "      <td>Not Even China Can Save Oil Markets This Time ...</td>\n",
       "      <td>Despite still sluggish oil demand, China is ex...</td>\n",
       "    </tr>\n",
       "    <tr>\n",
       "      <td>10</td>\n",
       "      <td>The Boldest Permian Plays To Watch As The Oil ...</td>\n",
       "      <td>Over-supplied markets like the oil market take...</td>\n",
       "    </tr>\n",
       "    <tr>\n",
       "      <td>11</td>\n",
       "      <td>Canada Braces For Oil Cuts As Storage Nears Li...</td>\n",
       "      <td>The Covid-19 virus and the ongoing oil price w...</td>\n",
       "    </tr>\n",
       "    <tr>\n",
       "      <td>12</td>\n",
       "      <td>Trumps Ultimate Weapon To End The Oil War.html</td>\n",
       "      <td>U.S. President Donald Trump is facing increasi...</td>\n",
       "    </tr>\n",
       "    <tr>\n",
       "      <td>13</td>\n",
       "      <td>Saudi Arabias Oil Price War Is Backfiring.html</td>\n",
       "      <td>Saudi Arabia and Russia must have anticipated ...</td>\n",
       "    </tr>\n",
       "    <tr>\n",
       "      <td>14</td>\n",
       "      <td>Azerbaijan Could Soon Tap Its 410 Million Barr...</td>\n",
       "      <td></td>\n",
       "    </tr>\n",
       "    <tr>\n",
       "      <td>15</td>\n",
       "      <td>Oil God Andy Hall Is Happy To Be Out Of Broken...</td>\n",
       "      <td>Legendary oil trader Andy Hall is happy to be ...</td>\n",
       "    </tr>\n",
       "    <tr>\n",
       "      <td>16</td>\n",
       "      <td>Worlds Top Oil Trader Global Demand To Plunge ...</td>\n",
       "      <td>Global oil demand is set to plunge by more tha...</td>\n",
       "    </tr>\n",
       "    <tr>\n",
       "      <td>17</td>\n",
       "      <td>Canada Prepares Multi Billion Dollar Bailout F...</td>\n",
       "      <td>The federal government of Canada is preparing ...</td>\n",
       "    </tr>\n",
       "    <tr>\n",
       "      <td>18</td>\n",
       "      <td>Will Putin Risky Oil Gamble Pay Off.html</td>\n",
       "      <td>Every gambler knows That the secret to survivi...</td>\n",
       "    </tr>\n",
       "    <tr>\n",
       "      <td>19</td>\n",
       "      <td>The New Saudi Plan To Send Oil Prices Lower.html</td>\n",
       "      <td>Saudi Arabia continues to signal to the market...</td>\n",
       "    </tr>\n",
       "  </tbody>\n",
       "</table>\n",
       "</div>"
      ],
      "text/plain": [
       "                                             Headline  \\\n",
       "0   Oil Prices Slide As Saudi Arabia Confirms Anot...   \n",
       "1                    SP Cuts Oil Nations Ratings.html   \n",
       "2   Is This The Beginning Of The End For Texas Oil...   \n",
       "3                 The Permian Boom Is Going Bust.html   \n",
       "4   Worlds Largest Oil Trader Says Demand Could Pl...   \n",
       "5         How Far Will Trump Go To Save US Shale.html   \n",
       "6             What Happens If US Shale Goes Bust.html   \n",
       "7   This Supermajor Is About To Slash Permian Oil ...   \n",
       "8   Saudi Arabia And The US Could Form The Worlds ...   \n",
       "9   Not Even China Can Save Oil Markets This Time ...   \n",
       "10  The Boldest Permian Plays To Watch As The Oil ...   \n",
       "11  Canada Braces For Oil Cuts As Storage Nears Li...   \n",
       "12     Trumps Ultimate Weapon To End The Oil War.html   \n",
       "13     Saudi Arabias Oil Price War Is Backfiring.html   \n",
       "14  Azerbaijan Could Soon Tap Its 410 Million Barr...   \n",
       "15  Oil God Andy Hall Is Happy To Be Out Of Broken...   \n",
       "16  Worlds Top Oil Trader Global Demand To Plunge ...   \n",
       "17  Canada Prepares Multi Billion Dollar Bailout F...   \n",
       "18           Will Putin Risky Oil Gamble Pay Off.html   \n",
       "19   The New Saudi Plan To Send Oil Prices Lower.html   \n",
       "\n",
       "                                                 News  \n",
       "0   Saudi Arabia is not backing down from the oil ...  \n",
       "1   Several oil-producing nations woke up to lower...  \n",
       "2   Widespread misery was evident in the Dallas Fe...  \n",
       "3   Oil companies are already beginning to pare ba...  \n",
       "4   A dramatic change in oil demand coupled with a...  \n",
       "5   The U.S. is today showing signs of increased d...  \n",
       "6   This month has seen a spectacular oil price cr...  \n",
       "7   Chevron is slashing capital expenditures, espe...  \n",
       "8   The United States and Saudi Arabia have been d...  \n",
       "9   Despite still sluggish oil demand, China is ex...  \n",
       "10  Over-supplied markets like the oil market take...  \n",
       "11  The Covid-19 virus and the ongoing oil price w...  \n",
       "12  U.S. President Donald Trump is facing increasi...  \n",
       "13  Saudi Arabia and Russia must have anticipated ...  \n",
       "14                                                     \n",
       "15  Legendary oil trader Andy Hall is happy to be ...  \n",
       "16  Global oil demand is set to plunge by more tha...  \n",
       "17  The federal government of Canada is preparing ...  \n",
       "18  Every gambler knows That the secret to survivi...  \n",
       "19  Saudi Arabia continues to signal to the market...  "
      ]
     },
     "execution_count": 62,
     "metadata": {},
     "output_type": "execute_result"
    }
   ],
   "source": [
    "news_df = pd.DataFrame({ \n",
    "#     'Date' : date_time,         \n",
    "    'Headline': headlines,  \n",
    "    'News': news_text,\n",
    "                       })\n",
    "news_df.to_csv(\"CrudeOil_News_Articles.csv\",index=False)  # exporting the news data into a csv file    \n",
    "news_df"
   ]
  },
  {
   "cell_type": "markdown",
   "metadata": {},
   "source": [
    "### Running a Vader Sentiment Analyzer"
   ]
  },
  {
   "cell_type": "code",
   "execution_count": 56,
   "metadata": {},
   "outputs": [],
   "source": [
    "analyser = SentimentIntensityAnalyzer()\n",
    "def comp_score(text):\n",
    "   return analyser.polarity_scores(text)[\"compound\"]   \n",
    "  \n",
    "news_df[\"sentiment\"] = news_df[\"News\"].apply(comp_score)"
   ]
  },
  {
   "cell_type": "code",
   "execution_count": 57,
   "metadata": {},
   "outputs": [
    {
     "data": {
      "text/html": [
       "<div>\n",
       "<style scoped>\n",
       "    .dataframe tbody tr th:only-of-type {\n",
       "        vertical-align: middle;\n",
       "    }\n",
       "\n",
       "    .dataframe tbody tr th {\n",
       "        vertical-align: top;\n",
       "    }\n",
       "\n",
       "    .dataframe thead th {\n",
       "        text-align: right;\n",
       "    }\n",
       "</style>\n",
       "<table border=\"1\" class=\"dataframe\">\n",
       "  <thead>\n",
       "    <tr style=\"text-align: right;\">\n",
       "      <th></th>\n",
       "      <th>Headline</th>\n",
       "      <th>News</th>\n",
       "      <th>sentiment</th>\n",
       "    </tr>\n",
       "  </thead>\n",
       "  <tbody>\n",
       "    <tr>\n",
       "      <td>0</td>\n",
       "      <td>Oil Prices Slide As Saudi Arabia Confirms Anot...</td>\n",
       "      <td>Saudi Arabia is not backing down from the oil ...</td>\n",
       "      <td>-0.9755</td>\n",
       "    </tr>\n",
       "    <tr>\n",
       "      <td>1</td>\n",
       "      <td>SP Cuts Oil Nations Ratings.html</td>\n",
       "      <td>Several oil-producing nations woke up to lower...</td>\n",
       "      <td>-0.9451</td>\n",
       "    </tr>\n",
       "    <tr>\n",
       "      <td>2</td>\n",
       "      <td>Is This The Beginning Of The End For Texas Oil...</td>\n",
       "      <td>Widespread misery was evident in the Dallas Fe...</td>\n",
       "      <td>-0.9449</td>\n",
       "    </tr>\n",
       "    <tr>\n",
       "      <td>3</td>\n",
       "      <td>The Permian Boom Is Going Bust.html</td>\n",
       "      <td>Oil companies are already beginning to pare ba...</td>\n",
       "      <td>-0.9914</td>\n",
       "    </tr>\n",
       "    <tr>\n",
       "      <td>4</td>\n",
       "      <td>Worlds Largest Oil Trader Says Demand Could Pl...</td>\n",
       "      <td>A dramatic change in oil demand coupled with a...</td>\n",
       "      <td>0.2280</td>\n",
       "    </tr>\n",
       "    <tr>\n",
       "      <td>5</td>\n",
       "      <td>How Far Will Trump Go To Save US Shale.html</td>\n",
       "      <td>The U.S. is today showing signs of increased d...</td>\n",
       "      <td>-0.8424</td>\n",
       "    </tr>\n",
       "    <tr>\n",
       "      <td>6</td>\n",
       "      <td>What Happens If US Shale Goes Bust.html</td>\n",
       "      <td>This month has seen a spectacular oil price cr...</td>\n",
       "      <td>-0.9609</td>\n",
       "    </tr>\n",
       "    <tr>\n",
       "      <td>7</td>\n",
       "      <td>This Supermajor Is About To Slash Permian Oil ...</td>\n",
       "      <td>Chevron is slashing capital expenditures, espe...</td>\n",
       "      <td>0.3230</td>\n",
       "    </tr>\n",
       "    <tr>\n",
       "      <td>8</td>\n",
       "      <td>Saudi Arabia And The US Could Form The Worlds ...</td>\n",
       "      <td>The United States and Saudi Arabia have been d...</td>\n",
       "      <td>0.2351</td>\n",
       "    </tr>\n",
       "    <tr>\n",
       "      <td>9</td>\n",
       "      <td>Not Even China Can Save Oil Markets This Time ...</td>\n",
       "      <td>Despite still sluggish oil demand, China is ex...</td>\n",
       "      <td>-0.9957</td>\n",
       "    </tr>\n",
       "    <tr>\n",
       "      <td>10</td>\n",
       "      <td>The Boldest Permian Plays To Watch As The Oil ...</td>\n",
       "      <td>Over-supplied markets like the oil market take...</td>\n",
       "      <td>0.9972</td>\n",
       "    </tr>\n",
       "    <tr>\n",
       "      <td>11</td>\n",
       "      <td>Canada Braces For Oil Cuts As Storage Nears Li...</td>\n",
       "      <td>The Covid-19 virus and the ongoing oil price w...</td>\n",
       "      <td>-0.8119</td>\n",
       "    </tr>\n",
       "    <tr>\n",
       "      <td>12</td>\n",
       "      <td>Trumps Ultimate Weapon To End The Oil War.html</td>\n",
       "      <td>U.S. President Donald Trump is facing increasi...</td>\n",
       "      <td>-0.9495</td>\n",
       "    </tr>\n",
       "    <tr>\n",
       "      <td>13</td>\n",
       "      <td>Saudi Arabias Oil Price War Is Backfiring.html</td>\n",
       "      <td>Saudi Arabia and Russia must have anticipated ...</td>\n",
       "      <td>-0.9963</td>\n",
       "    </tr>\n",
       "    <tr>\n",
       "      <td>14</td>\n",
       "      <td>Azerbaijan Could Soon Tap Its 410 Million Barr...</td>\n",
       "      <td></td>\n",
       "      <td>0.0000</td>\n",
       "    </tr>\n",
       "    <tr>\n",
       "      <td>15</td>\n",
       "      <td>Oil God Andy Hall Is Happy To Be Out Of Broken...</td>\n",
       "      <td>Legendary oil trader Andy Hall is happy to be ...</td>\n",
       "      <td>-0.9908</td>\n",
       "    </tr>\n",
       "    <tr>\n",
       "      <td>16</td>\n",
       "      <td>Worlds Top Oil Trader Global Demand To Plunge ...</td>\n",
       "      <td>Global oil demand is set to plunge by more tha...</td>\n",
       "      <td>-0.9868</td>\n",
       "    </tr>\n",
       "    <tr>\n",
       "      <td>17</td>\n",
       "      <td>Canada Prepares Multi Billion Dollar Bailout F...</td>\n",
       "      <td>The federal government of Canada is preparing ...</td>\n",
       "      <td>-0.9846</td>\n",
       "    </tr>\n",
       "    <tr>\n",
       "      <td>18</td>\n",
       "      <td>Will Putin Risky Oil Gamble Pay Off.html</td>\n",
       "      <td>Every gambler knows That the secret to survivi...</td>\n",
       "      <td>-0.9962</td>\n",
       "    </tr>\n",
       "    <tr>\n",
       "      <td>19</td>\n",
       "      <td>The New Saudi Plan To Send Oil Prices Lower.html</td>\n",
       "      <td>Saudi Arabia continues to signal to the market...</td>\n",
       "      <td>-0.9825</td>\n",
       "    </tr>\n",
       "  </tbody>\n",
       "</table>\n",
       "</div>"
      ],
      "text/plain": [
       "                                             Headline  \\\n",
       "0   Oil Prices Slide As Saudi Arabia Confirms Anot...   \n",
       "1                    SP Cuts Oil Nations Ratings.html   \n",
       "2   Is This The Beginning Of The End For Texas Oil...   \n",
       "3                 The Permian Boom Is Going Bust.html   \n",
       "4   Worlds Largest Oil Trader Says Demand Could Pl...   \n",
       "5         How Far Will Trump Go To Save US Shale.html   \n",
       "6             What Happens If US Shale Goes Bust.html   \n",
       "7   This Supermajor Is About To Slash Permian Oil ...   \n",
       "8   Saudi Arabia And The US Could Form The Worlds ...   \n",
       "9   Not Even China Can Save Oil Markets This Time ...   \n",
       "10  The Boldest Permian Plays To Watch As The Oil ...   \n",
       "11  Canada Braces For Oil Cuts As Storage Nears Li...   \n",
       "12     Trumps Ultimate Weapon To End The Oil War.html   \n",
       "13     Saudi Arabias Oil Price War Is Backfiring.html   \n",
       "14  Azerbaijan Could Soon Tap Its 410 Million Barr...   \n",
       "15  Oil God Andy Hall Is Happy To Be Out Of Broken...   \n",
       "16  Worlds Top Oil Trader Global Demand To Plunge ...   \n",
       "17  Canada Prepares Multi Billion Dollar Bailout F...   \n",
       "18           Will Putin Risky Oil Gamble Pay Off.html   \n",
       "19   The New Saudi Plan To Send Oil Prices Lower.html   \n",
       "\n",
       "                                                 News  sentiment  \n",
       "0   Saudi Arabia is not backing down from the oil ...    -0.9755  \n",
       "1   Several oil-producing nations woke up to lower...    -0.9451  \n",
       "2   Widespread misery was evident in the Dallas Fe...    -0.9449  \n",
       "3   Oil companies are already beginning to pare ba...    -0.9914  \n",
       "4   A dramatic change in oil demand coupled with a...     0.2280  \n",
       "5   The U.S. is today showing signs of increased d...    -0.8424  \n",
       "6   This month has seen a spectacular oil price cr...    -0.9609  \n",
       "7   Chevron is slashing capital expenditures, espe...     0.3230  \n",
       "8   The United States and Saudi Arabia have been d...     0.2351  \n",
       "9   Despite still sluggish oil demand, China is ex...    -0.9957  \n",
       "10  Over-supplied markets like the oil market take...     0.9972  \n",
       "11  The Covid-19 virus and the ongoing oil price w...    -0.8119  \n",
       "12  U.S. President Donald Trump is facing increasi...    -0.9495  \n",
       "13  Saudi Arabia and Russia must have anticipated ...    -0.9963  \n",
       "14                                                        0.0000  \n",
       "15  Legendary oil trader Andy Hall is happy to be ...    -0.9908  \n",
       "16  Global oil demand is set to plunge by more tha...    -0.9868  \n",
       "17  The federal government of Canada is preparing ...    -0.9846  \n",
       "18  Every gambler knows That the secret to survivi...    -0.9962  \n",
       "19  Saudi Arabia continues to signal to the market...    -0.9825  "
      ]
     },
     "execution_count": 57,
     "metadata": {},
     "output_type": "execute_result"
    }
   ],
   "source": [
    "news_df"
   ]
  },
  {
   "cell_type": "markdown",
   "metadata": {},
   "source": [
    "### Running a Machine learning Sentiment Analyzer"
   ]
  },
  {
   "cell_type": "code",
   "execution_count": 96,
   "metadata": {},
   "outputs": [],
   "source": [
    "from sklearn.feature_extraction.text import CountVectorizer\n",
    "from sklearn.feature_extraction.text import TfidfTransformer\n",
    "from sklearn.naive_bayes import GaussianNB\n",
    "import pandas as pd\n",
    "import pickle"
   ]
  },
  {
   "cell_type": "markdown",
   "metadata": {},
   "source": [
    "Before we import the data we'll have to label the data as positive, negative or neutral ourselves. We'll use Guassian Naive Bayes classifier because we have 3 possible outputs."
   ]
  },
  {
   "cell_type": "code",
   "execution_count": 97,
   "metadata": {},
   "outputs": [],
   "source": [
    "data = pd.read_csv(\"CrudeOil_News_Articles.csv\", encoding = \"ISO-8859-1\")"
   ]
  },
  {
   "cell_type": "code",
   "execution_count": 98,
   "metadata": {},
   "outputs": [
    {
     "data": {
      "text/html": [
       "<div>\n",
       "<style scoped>\n",
       "    .dataframe tbody tr th:only-of-type {\n",
       "        vertical-align: middle;\n",
       "    }\n",
       "\n",
       "    .dataframe tbody tr th {\n",
       "        vertical-align: top;\n",
       "    }\n",
       "\n",
       "    .dataframe thead th {\n",
       "        text-align: right;\n",
       "    }\n",
       "</style>\n",
       "<table border=\"1\" class=\"dataframe\">\n",
       "  <thead>\n",
       "    <tr style=\"text-align: right;\">\n",
       "      <th></th>\n",
       "      <th>Headline</th>\n",
       "      <th>News</th>\n",
       "      <th>Sentiment</th>\n",
       "    </tr>\n",
       "  </thead>\n",
       "  <tbody>\n",
       "    <tr>\n",
       "      <td>0</td>\n",
       "      <td>Oil Prices Slide As Saudi Arabia Confirms Anot...</td>\n",
       "      <td>Saudi Arabia is not backing down from the oil ...</td>\n",
       "      <td>pos</td>\n",
       "    </tr>\n",
       "    <tr>\n",
       "      <td>1</td>\n",
       "      <td>SP Cuts Oil Nations Ratings.html</td>\n",
       "      <td>Several oil-producing nations woke up to lower...</td>\n",
       "      <td>pos</td>\n",
       "    </tr>\n",
       "    <tr>\n",
       "      <td>2</td>\n",
       "      <td>Is This The Beginning Of The End For Texas Oil...</td>\n",
       "      <td>Widespread misery was evident in the Dallas Fe...</td>\n",
       "      <td>neg</td>\n",
       "    </tr>\n",
       "    <tr>\n",
       "      <td>3</td>\n",
       "      <td>The Permian Boom Is Going Bust.html</td>\n",
       "      <td>Oil companies are already beginning to pare ba...</td>\n",
       "      <td>neutral</td>\n",
       "    </tr>\n",
       "    <tr>\n",
       "      <td>4</td>\n",
       "      <td>Worlds Largest Oil Trader Says Demand Could Pl...</td>\n",
       "      <td>A dramatic change in oil demand coupled with a...</td>\n",
       "      <td>pos</td>\n",
       "    </tr>\n",
       "    <tr>\n",
       "      <td>5</td>\n",
       "      <td>How Far Will Trump Go To Save US Shale.html</td>\n",
       "      <td>The U.S. is today showing signs of increased d...</td>\n",
       "      <td>pos</td>\n",
       "    </tr>\n",
       "    <tr>\n",
       "      <td>6</td>\n",
       "      <td>What Happens If US Shale Goes Bust.html</td>\n",
       "      <td>This month has seen a spectacular oil price cr...</td>\n",
       "      <td>neg</td>\n",
       "    </tr>\n",
       "    <tr>\n",
       "      <td>7</td>\n",
       "      <td>This Supermajor Is About To Slash Permian Oil ...</td>\n",
       "      <td>Chevron is slashing capital expenditures, espe...</td>\n",
       "      <td>neg</td>\n",
       "    </tr>\n",
       "    <tr>\n",
       "      <td>8</td>\n",
       "      <td>Saudi Arabia And The US Could Form The Worlds ...</td>\n",
       "      <td>The United States and Saudi Arabia have been d...</td>\n",
       "      <td>neutral</td>\n",
       "    </tr>\n",
       "    <tr>\n",
       "      <td>9</td>\n",
       "      <td>Not Even China Can Save Oil Markets This Time ...</td>\n",
       "      <td>Despite still sluggish oil demand, China is ex...</td>\n",
       "      <td>pos</td>\n",
       "    </tr>\n",
       "    <tr>\n",
       "      <td>10</td>\n",
       "      <td>The Boldest Permian Plays To Watch As The Oil ...</td>\n",
       "      <td>Over-supplied markets like the oil market take...</td>\n",
       "      <td>neg</td>\n",
       "    </tr>\n",
       "    <tr>\n",
       "      <td>11</td>\n",
       "      <td>Canada Braces For Oil Cuts As Storage Nears Li...</td>\n",
       "      <td>The Covid-19 virus and the ongoing oil price w...</td>\n",
       "      <td>neg</td>\n",
       "    </tr>\n",
       "    <tr>\n",
       "      <td>12</td>\n",
       "      <td>Trumps Ultimate Weapon To End The Oil War.html</td>\n",
       "      <td>U.S. President Donald Trump is facing increasi...</td>\n",
       "      <td>neg</td>\n",
       "    </tr>\n",
       "    <tr>\n",
       "      <td>13</td>\n",
       "      <td>Saudi Arabias Oil Price War Is Backfiring.html</td>\n",
       "      <td>Saudi Arabia and Russia must have anticipated ...</td>\n",
       "      <td>pos</td>\n",
       "    </tr>\n",
       "    <tr>\n",
       "      <td>14</td>\n",
       "      <td>Oil God Andy Hall Is Happy To Be Out Of Broken...</td>\n",
       "      <td>Legendary oil trader Andy Hall is happy to be ...</td>\n",
       "      <td>pos</td>\n",
       "    </tr>\n",
       "    <tr>\n",
       "      <td>15</td>\n",
       "      <td>Worlds Top Oil Trader Global Demand To Plunge ...</td>\n",
       "      <td>Global oil demand is set to plunge by more tha...</td>\n",
       "      <td>pos</td>\n",
       "    </tr>\n",
       "    <tr>\n",
       "      <td>16</td>\n",
       "      <td>Canada Prepares Multi Billion Dollar Bailout F...</td>\n",
       "      <td>The federal government of Canada is preparing ...</td>\n",
       "      <td>neutral</td>\n",
       "    </tr>\n",
       "    <tr>\n",
       "      <td>17</td>\n",
       "      <td>Will Putin Risky Oil Gamble Pay Off.html</td>\n",
       "      <td>Every gambler knows That the secret to survivi...</td>\n",
       "      <td>neg</td>\n",
       "    </tr>\n",
       "    <tr>\n",
       "      <td>18</td>\n",
       "      <td>The New Saudi Plan To Send Oil Prices Lower.html</td>\n",
       "      <td>Saudi Arabia continues to signal to the market...</td>\n",
       "      <td>pos</td>\n",
       "    </tr>\n",
       "  </tbody>\n",
       "</table>\n",
       "</div>"
      ],
      "text/plain": [
       "                                             Headline  \\\n",
       "0   Oil Prices Slide As Saudi Arabia Confirms Anot...   \n",
       "1                    SP Cuts Oil Nations Ratings.html   \n",
       "2   Is This The Beginning Of The End For Texas Oil...   \n",
       "3                 The Permian Boom Is Going Bust.html   \n",
       "4   Worlds Largest Oil Trader Says Demand Could Pl...   \n",
       "5         How Far Will Trump Go To Save US Shale.html   \n",
       "6             What Happens If US Shale Goes Bust.html   \n",
       "7   This Supermajor Is About To Slash Permian Oil ...   \n",
       "8   Saudi Arabia And The US Could Form The Worlds ...   \n",
       "9   Not Even China Can Save Oil Markets This Time ...   \n",
       "10  The Boldest Permian Plays To Watch As The Oil ...   \n",
       "11  Canada Braces For Oil Cuts As Storage Nears Li...   \n",
       "12     Trumps Ultimate Weapon To End The Oil War.html   \n",
       "13     Saudi Arabias Oil Price War Is Backfiring.html   \n",
       "14  Oil God Andy Hall Is Happy To Be Out Of Broken...   \n",
       "15  Worlds Top Oil Trader Global Demand To Plunge ...   \n",
       "16  Canada Prepares Multi Billion Dollar Bailout F...   \n",
       "17           Will Putin Risky Oil Gamble Pay Off.html   \n",
       "18   The New Saudi Plan To Send Oil Prices Lower.html   \n",
       "\n",
       "                                                 News Sentiment  \n",
       "0   Saudi Arabia is not backing down from the oil ...      pos   \n",
       "1   Several oil-producing nations woke up to lower...      pos   \n",
       "2   Widespread misery was evident in the Dallas Fe...       neg  \n",
       "3   Oil companies are already beginning to pare ba...   neutral  \n",
       "4   A dramatic change in oil demand coupled with a...      pos   \n",
       "5   The U.S. is today showing signs of increased d...      pos   \n",
       "6   This month has seen a spectacular oil price cr...       neg  \n",
       "7   Chevron is slashing capital expenditures, espe...       neg  \n",
       "8   The United States and Saudi Arabia have been d...   neutral  \n",
       "9   Despite still sluggish oil demand, China is ex...      pos   \n",
       "10  Over-supplied markets like the oil market take...       neg  \n",
       "11  The Covid-19 virus and the ongoing oil price w...       neg  \n",
       "12  U.S. President Donald Trump is facing increasi...       neg  \n",
       "13  Saudi Arabia and Russia must have anticipated ...      pos   \n",
       "14  Legendary oil trader Andy Hall is happy to be ...      pos   \n",
       "15  Global oil demand is set to plunge by more tha...      pos   \n",
       "16  The federal government of Canada is preparing ...   neutral  \n",
       "17  Every gambler knows That the secret to survivi...       neg  \n",
       "18  Saudi Arabia continues to signal to the market...      pos   "
      ]
     },
     "execution_count": 98,
     "metadata": {},
     "output_type": "execute_result"
    }
   ],
   "source": [
    "data"
   ]
  },
  {
   "cell_type": "code",
   "execution_count": 99,
   "metadata": {},
   "outputs": [
    {
     "data": {
      "text/plain": [
       "0     Saudi Arabia is not backing down from the oil ...\n",
       "1     Several oil-producing nations woke up to lower...\n",
       "2     Widespread misery was evident in the Dallas Fe...\n",
       "3     Oil companies are already beginning to pare ba...\n",
       "4     A dramatic change in oil demand coupled with a...\n",
       "5     The U.S. is today showing signs of increased d...\n",
       "6     This month has seen a spectacular oil price cr...\n",
       "7     Chevron is slashing capital expenditures, espe...\n",
       "8     The United States and Saudi Arabia have been d...\n",
       "9     Despite still sluggish oil demand, China is ex...\n",
       "10    Over-supplied markets like the oil market take...\n",
       "11    The Covid-19 virus and the ongoing oil price w...\n",
       "12    U.S. President Donald Trump is facing increasi...\n",
       "13    Saudi Arabia and Russia must have anticipated ...\n",
       "14    Legendary oil trader Andy Hall is happy to be ...\n",
       "15    Global oil demand is set to plunge by more tha...\n",
       "16    The federal government of Canada is preparing ...\n",
       "17    Every gambler knows That the secret to survivi...\n",
       "18    Saudi Arabia continues to signal to the market...\n",
       "Name: News, dtype: object"
      ]
     },
     "execution_count": 99,
     "metadata": {},
     "output_type": "execute_result"
    }
   ],
   "source": [
    "X = data.iloc[:,1]\n",
    "vectorizer = CountVectorizer(stop_words='english') # tokenizing the news text and convert data in matrix format\n",
    "X"
   ]
  },
  {
   "cell_type": "code",
   "execution_count": 100,
   "metadata": {},
   "outputs": [
    {
     "name": "stdout",
     "output_type": "stream",
     "text": [
      "  (0, 2020)\t7\n",
      "  (0, 212)\t2\n",
      "  (0, 265)\t1\n",
      "  (0, 1555)\t7\n",
      "  (0, 1740)\t2\n",
      "  (0, 2517)\t2\n",
      "  (0, 1420)\t4\n",
      "  (0, 2080)\t2\n",
      "  (0, 1678)\t1\n",
      "  (0, 1179)\t3\n",
      "  (0, 607)\t5\n",
      "  (0, 884)\t6\n",
      "  (0, 2207)\t3\n",
      "  (0, 684)\t1\n",
      "  (0, 1070)\t2\n",
      "  (0, 1039)\t2\n",
      "  (0, 1042)\t1\n",
      "  (0, 178)\t2\n",
      "  (0, 596)\t1\n",
      "  (0, 664)\t4\n",
      "  (0, 1286)\t2\n",
      "  (0, 1212)\t1\n",
      "  (0, 70)\t1\n",
      "  (0, 2363)\t1\n",
      "  (0, 279)\t2\n",
      "  :\t:\n",
      "  (18, 2403)\t1\n",
      "  (18, 610)\t1\n",
      "  (18, 1105)\t1\n",
      "  (18, 2336)\t1\n",
      "  (18, 1313)\t1\n",
      "  (18, 353)\t1\n",
      "  (18, 1621)\t1\n",
      "  (18, 1782)\t1\n",
      "  (18, 888)\t1\n",
      "  (18, 1754)\t1\n",
      "  (18, 2530)\t2\n",
      "  (18, 903)\t1\n",
      "  (18, 2061)\t1\n",
      "  (18, 2317)\t1\n",
      "  (18, 2535)\t1\n",
      "  (18, 286)\t1\n",
      "  (18, 1850)\t1\n",
      "  (18, 2543)\t1\n",
      "  (18, 1638)\t1\n",
      "  (18, 2019)\t1\n",
      "  (18, 710)\t1\n",
      "  (18, 1464)\t1\n",
      "  (18, 2047)\t1\n",
      "  (18, 1509)\t1\n",
      "  (18, 991)\t1\n"
     ]
    }
   ],
   "source": [
    "X_vec = vectorizer.fit_transform(X)\n",
    "print(X_vec) "
   ]
  },
  {
   "cell_type": "markdown",
   "metadata": {},
   "source": [
    "We use pickle to dump python object into a file."
   ]
  },
  {
   "cell_type": "code",
   "execution_count": 101,
   "metadata": {},
   "outputs": [],
   "source": [
    "pickle.dump(vectorizer, open(\"vectorizer_crude_oil\", 'wb')) # Save vectorizer for reuse"
   ]
  },
  {
   "cell_type": "code",
   "execution_count": 102,
   "metadata": {},
   "outputs": [],
   "source": [
    "X_vec = X_vec.todense()"
   ]
  },
  {
   "cell_type": "markdown",
   "metadata": {},
   "source": [
    "Next, we apply term frequency inverse document frequency (TF-IDF) on the data set."
   ]
  },
  {
   "cell_type": "code",
   "execution_count": 104,
   "metadata": {},
   "outputs": [],
   "source": [
    "tfidf = TfidfTransformer()\n",
    "X_tfidf = tfidf.fit_transform(X_vec)\n",
    "X_tfidf = X_tfidf.todense()"
   ]
  },
  {
   "cell_type": "markdown",
   "metadata": {},
   "source": [
    "Next, we apply the Naive Bayes algorithm on the transformed data set."
   ]
  },
  {
   "cell_type": "code",
   "execution_count": 107,
   "metadata": {},
   "outputs": [],
   "source": [
    "X_train = X_tfidf[:66,:]\n",
    "Y_train = data.iloc[:66,2]\n",
    "clf = GaussianNB().fit(X_train, Y_train) \n",
    "pickle.dump(clf, open(\"nb_clf_crude_oil\", 'wb'))"
   ]
  },
  {
   "cell_type": "markdown",
   "metadata": {},
   "source": [
    "### Testing the Algorithm"
   ]
  },
  {
   "cell_type": "markdown",
   "metadata": {},
   "source": [
    "We have to test the algorithm manually by reading the news and figuring out the sentiment and then checkng it with the sentiment predicted by the algorithm"
   ]
  },
  {
   "cell_type": "code",
   "execution_count": 163,
   "metadata": {},
   "outputs": [],
   "source": [
    "nb_clf = pickle.load(open(\"nb_clf_crude_oil\", 'rb'))\n",
    "vectorizer = pickle.load(open(\"vectorizer_crude_oil\", 'rb'))\n",
    "data_pred = pd.read_csv(\"CrudeOil_News_Articles_Testing.csv\", encoding = \"ISO-8859-1\")\n",
    "X_test = data_pred.iloc[:,1] \n",
    "X_vec_test = vectorizer.transform(X_test) \n",
    "X_vec_test = X_vec_test.todense()"
   ]
  },
  {
   "cell_type": "code",
   "execution_count": 164,
   "metadata": {},
   "outputs": [],
   "source": [
    "tfidf = TfidfTransformer() \n",
    "X_tfidf_test = tfidf.fit_transform(X_vec_test)\n",
    "X_tfidf_test = X_tfidf_test.todense()"
   ]
  },
  {
   "cell_type": "code",
   "execution_count": 166,
   "metadata": {},
   "outputs": [
    {
     "data": {
      "text/plain": [
       "array(['pos ', 'neg', 'neg', 'pos ', 'neg', 'pos ', 'neg', 'neg', 'pos ',\n",
       "       'neg'], dtype='<U7')"
      ]
     },
     "execution_count": 166,
     "metadata": {},
     "output_type": "execute_result"
    }
   ],
   "source": [
    "y_pred = nb_clf.predict(X_tfidf_test)\n",
    "y_pred"
   ]
  },
  {
   "cell_type": "markdown",
   "metadata": {},
   "source": [
    "The algorithm had 75% accuracy."
   ]
  },
  {
   "cell_type": "markdown",
   "metadata": {},
   "source": [
    "## Sentiment Analysis in Reviews"
   ]
  },
  {
   "cell_type": "markdown",
   "metadata": {},
   "source": [
    "Here, we are going to rate reviews for different products by analyzing the text in the reviews."
   ]
  },
  {
   "cell_type": "code",
   "execution_count": 33,
   "metadata": {},
   "outputs": [],
   "source": [
    "import nltk\n",
    "import numpy as np\n",
    "import csv\n",
    "import matplotlib \n",
    "import random\n",
    "import matplotlib.pyplot as plt\n",
    "matplotlib.style.use(\"ggplot\")"
   ]
  },
  {
   "cell_type": "markdown",
   "metadata": {},
   "source": [
    "We have a text file where we have stored all the negative and positive emotion words. It is a sentiment lexicon."
   ]
  },
  {
   "cell_type": "code",
   "execution_count": 5,
   "metadata": {},
   "outputs": [],
   "source": [
    "negative=[]\n",
    "with open(\"words-negative.csv\", \"r\")  as file:\n",
    "    reader=csv.reader(file)\n",
    "    for row in reader:\n",
    "        negative.append(row)"
   ]
  },
  {
   "cell_type": "code",
   "execution_count": 6,
   "metadata": {},
   "outputs": [],
   "source": [
    "positive=[]\n",
    "with open(\"words-positive.csv\", \"r\")  as file:\n",
    "    reader=csv.reader(file)\n",
    "    for row in reader:\n",
    "        positive.append(row)"
   ]
  },
  {
   "cell_type": "code",
   "execution_count": 7,
   "metadata": {},
   "outputs": [
    {
     "data": {
      "text/plain": [
       "[['absolutely'],\n",
       " ['adorable'],\n",
       " ['accepted'],\n",
       " ['acclaimed'],\n",
       " ['accomplish'],\n",
       " ['accomplishment'],\n",
       " ['achievement'],\n",
       " ['action'],\n",
       " ['active'],\n",
       " ['admire']]"
      ]
     },
     "execution_count": 7,
     "metadata": {},
     "output_type": "execute_result"
    }
   ],
   "source": [
    "positive[:10]"
   ]
  },
  {
   "cell_type": "markdown",
   "metadata": {},
   "source": [
    "Below, we'll write a demo function which will clasiify a sentence as positve or negative"
   ]
  },
  {
   "cell_type": "code",
   "execution_count": 11,
   "metadata": {},
   "outputs": [
    {
     "name": "stderr",
     "output_type": "stream",
     "text": [
      "[nltk_data] Downloading package punkt to\n",
      "[nltk_data]     C:\\Users\\chashah4\\AppData\\Roaming\\nltk_data...\n",
      "[nltk_data]   Package punkt is already up-to-date!\n"
     ]
    },
    {
     "data": {
      "text/plain": [
       "True"
      ]
     },
     "execution_count": 11,
     "metadata": {},
     "output_type": "execute_result"
    }
   ],
   "source": [
    "nltk.download('punkt')"
   ]
  },
  {
   "cell_type": "code",
   "execution_count": 12,
   "metadata": {},
   "outputs": [],
   "source": [
    "def sentiment(text):\n",
    "    text_sent=nltk.sent_tokenize(text)\n",
    "    for sentence in text_sent:\n",
    "        n_count=0\n",
    "        p_count=0\n",
    "        sent_words=nltk.word_tokenize(sentence)\n",
    "        for word in sent_words:\n",
    "            for item in positive:\n",
    "                if(word==item[0]):\n",
    "                    p_count+=1\n",
    "            for item in negative:\n",
    "                if(word==item[0]):\n",
    "                    n_count+=1\n",
    "        if(p_count>0 and n_count==0):\n",
    "            print(\"+\" +  sentence)\n",
    "        elif(n_count%2>0 ):\n",
    "            print(\"-\" +  sentence)\n",
    "        elif(n_count%2>0 and n_count==0):\n",
    "            print(\"+\" + sentence)\n",
    "        else:\n",
    "            print(\"?\" + sentence)\n",
    "            "
   ]
  },
  {
   "cell_type": "code",
   "execution_count": 13,
   "metadata": {},
   "outputs": [
    {
     "name": "stdout",
     "output_type": "stream",
     "text": [
      "-It was terribly bad\n"
     ]
    }
   ],
   "source": [
    "sentiment(\"It was terribly bad\")"
   ]
  },
  {
   "cell_type": "code",
   "execution_count": 14,
   "metadata": {},
   "outputs": [],
   "source": [
    "def sentiment(text):\n",
    "    temp=[]\n",
    "    text_sent=nltk.sent_tokenize(text)\n",
    "    for sentence in text_sent:\n",
    "        n_count=0\n",
    "        p_count=0\n",
    "        sent_words=nltk.word_tokenize(sentence)\n",
    "        for word in sent_words:\n",
    "            for item in positive:\n",
    "                if(word==item[0]):\n",
    "                    p_count+=1\n",
    "            for item in negative:\n",
    "                if(word==item[0]):\n",
    "                    n_count+=1\n",
    "        if(p_count>0 and n_count==0):\n",
    "            temp.append(1)\n",
    "        elif(n_count%2>0 ):\n",
    "            temp.append(-1)\n",
    "        elif(n_count%2>0 and n_count==0):\n",
    "            temp.append(1)\n",
    "        else:\n",
    "            temp.append(0)\n",
    "    return temp"
   ]
  },
  {
   "cell_type": "code",
   "execution_count": 15,
   "metadata": {},
   "outputs": [],
   "source": [
    "comments =[]\n",
    "with open(\"reviews.csv\",\"r\") as file:\n",
    "    reader=csv.reader(file)\n",
    "    for row in reader:\n",
    "        comments.append(row)"
   ]
  },
  {
   "cell_type": "code",
   "execution_count": 16,
   "metadata": {},
   "outputs": [
    {
     "data": {
      "text/plain": [
       "[\"This camera is perfect for an enthusiastic amateur photographer. The pictures are razor-sharp, even in macro. It is small enough to fit easily in a coat pocket or purse. It is light enough to carry around all day without bother. Operating its many features is easy and often obvious - i'm no annie lebovitz, but i was able to figure out most of its abilities just messing around with it at a camera store. The manual does a fine job filling in any blanks that remain. The auto-focus performs well, but i love having the 12 optional scene modes - they are dummy-proof, and correspond to many situations in which i would actually seek to use the camera. Comes with a 16 mb compact flash and one rechargeable battery the charging unit, included, is fast and small. I bought a 256 mb cf and a second battery, so it's good to go on a long vacation. I enthusiastically recommend this camera.\"]"
      ]
     },
     "execution_count": 16,
     "metadata": {},
     "output_type": "execute_result"
    }
   ],
   "source": [
    "comments[0]"
   ]
  },
  {
   "cell_type": "code",
   "execution_count": 17,
   "metadata": {},
   "outputs": [
    {
     "name": "stdout",
     "output_type": "stream",
     "text": [
      "\n",
      "\n",
      "0.6\n",
      "[\"This camera is perfect for an enthusiastic amateur photographer. The pictures are razor-sharp, even in macro. It is small enough to fit easily in a coat pocket or purse. It is light enough to carry around all day without bother. Operating its many features is easy and often obvious - i'm no annie lebovitz, but i was able to figure out most of its abilities just messing around with it at a camera store. The manual does a fine job filling in any blanks that remain. The auto-focus performs well, but i love having the 12 optional scene modes - they are dummy-proof, and correspond to many situations in which i would actually seek to use the camera. Comes with a 16 mb compact flash and one rechargeable battery the charging unit, included, is fast and small. I bought a 256 mb cf and a second battery, so it's good to go on a long vacation. I enthusiastically recommend this camera.\"]\n",
      "\n",
      "\n",
      "0.875\n",
      "[\"I got my camera three days back, and although i had some experience with digital cameras prior to purchasing this one, i still rate myself as a beginner. I bought this camera because it fit my budget and the pre-production and production model reviews were positive. It's easy to use, and yet very feature rich. In the auto mode it functions basically as a point and click, the scene modes are very easy to use and produce good results. The manual mode is feature rich and i can't wait to get the hang of it. The macro mode is exceptional, the pictures are very clear and you can take the pictures with the lens unbelievably close the subject. The battery life is very good, i got about 90 minutes with the lcd turned on all the time, the first time around, and i have been using it with the lcd off every now and then, and have yet needed to recharge it. The camera comes with a lexar 16mb starter card, which stores about 10 images in fine mode at the highest resolution, i intend to buy a bigger card soon.\"]\n",
      "\n",
      "\n",
      "0.6666666666666666\n",
      "['I love photography. I had an older camera that was simply a point and shoot camera. I needed something with more power, so i bought a nikon coolpix 4300. I fell in love with this camera, it combines ease of use, with an immense amount of options and power. You can use the scene modes, or fine tune the options, i. you can change the iso level, shutter speed, etc. This camera is ideal for people who want more power, but donâ€™t want to spend 1000s dollars on a camera. ']\n",
      "\n",
      "\n",
      "0.09090909090909091\n",
      "[\"I bought coolpix 4300 two months after i had bought canon powershot s400. It was not easy sharing one with my teen age kid. The two cameras are very similar in functionality and pricing. I've had no problem with canon whatsoever. With nikon, although picture qualities are as good as any other 4 mp cameras, i've had the following headaches. Pictures won't transfer to pc directly from the camera using the included transfer cable. I did everything i could, and it took many days of frustration before concluding that the only way to transfer to pc is with the card reader. The speed is noticeably slower than canon, especially so with flashes on. With low battery, it twice wiped out the entire pictures in the memory chip. I used lexar 256 mb and i still use it which means nothing is wrong with lexar. Be very careful when the battery is low and make sure to carry extra batteries. \"]\n",
      "\n",
      "\n",
      "0.21428571428571427\n",
      "['The other reviewers have clearly pointed all the good things about this camera, which i do agree. But there are certain issues might be they are to me here - all of them are minor; not major ones though. This camera keeps on autofocusing in auto mode with a buzzing sound which can\\'t be stopped. Would be really good if they have given an option to stop this autofocusing. If you want to have the date; time on the image, its only through their software \"nikon view\" which reads the images date; time from the images meta-data. So if you use your card reader; copy images - you got to once again open them through their software to put the date; time. In that too, there is not a direct way to add date; time - you got to say\\' print images\\' to a different directory in which there is an option to specify the date; time. Even the slightest of the shakes totally distorts your image. Images taken indoor were not so clear. You got to have flash on to get it even though your room is well lit. Lens cap is a really annoying. The movie clips taken will always have some noise in it, you can\\'t avoid that. But overall this is a good camera with a\\' really good\\' picture clarity; an exceptional close-up shooting capability. I would rate this is 4.5 stars picture quality; image size defined above are specific to nikon coolpix.']\n",
      "\n",
      "\n",
      "-0.42857142857142855\n",
      "[\"Within a year, there are problems with my menu dial knob. It became stuck which makes it almost impossible to switch between modes. I send my camera to nikon for servicing, took them a whole 6 weeks to diagnose the problem. Worse of all, they claim that it's some kind of internal damage and refuse to cover the cost via warranty! They wouldn't repair my camera unless if i pay $100 for parts? and labor! It is a good camera in terms of the function and quality, but take your chance with it because nikon absolutely sucks when it comes to customer service.\"]\n",
      "\n",
      "\n",
      "-0.16666666666666666\n",
      "['Got a \"system error\" problem 30 days after purchase. Made the camera totally inoperable. Also, the lens cap design is flawed. You have to manually Audio on video also lacking. Otherwise, it takes very good pictures; shutter delay is not so bad either. Still, had to send it back to nikon for repair.']\n",
      "\n",
      "\n",
      "0.36363636363636365\n",
      "['I am an amateur photographer and here is a piece of advise to all the folks who are thinking about making a move the digital world. I feel, is the best camera out there for the features and price. I had initially thought of buying a 2 or 3 megapixel camera but these are good for 4x6\" or 5x7\" prints and i wanted some really great 8x10\" photos once in a while. I did not want a very small camera as it seems to get lost in my hands and i was not comfortable with that. I wanted a decent sized camera with a contour for my fingers to hold it steadily. I wanted a camera that had a lot of built-in settings for different types of surroundings while giving me an option to use my photography skills although, I am an amateur with an interest in photography by turning on the manual settings. I wanted a respected brand and had to stay within my budget because i had bought an expensive camcorder before but had not used it much. Depending on all the above requirements, I had narrowed down my search to nikon 4300 and canon powershot s400 models. Nikon got the final nod for its settings auto and manual along with movie modes, medium; compact size, price, brand name, good software that is included and previous reviews. I should say I have been very happy with my decision ever since. The pictures are absolutely amazing - the camera captures the minutest of details.']\n"
     ]
    }
   ],
   "source": [
    "for review in comments:\n",
    "    print(\"\\n\")\n",
    "    print(np.average(sentiment(str(review))))\n",
    "    print(review)"
   ]
  },
  {
   "cell_type": "markdown",
   "metadata": {},
   "source": [
    "## Gender Prediction by Name"
   ]
  },
  {
   "cell_type": "code",
   "execution_count": 18,
   "metadata": {},
   "outputs": [],
   "source": [
    "from nltk.corpus import names"
   ]
  },
  {
   "cell_type": "code",
   "execution_count": 19,
   "metadata": {},
   "outputs": [
    {
     "data": {
      "text/plain": [
       "['female.txt', 'male.txt']"
      ]
     },
     "execution_count": 19,
     "metadata": {},
     "output_type": "execute_result"
    }
   ],
   "source": [
    "names.fileids()"
   ]
  },
  {
   "cell_type": "code",
   "execution_count": 23,
   "metadata": {},
   "outputs": [],
   "source": [
    "%matplotlib inline"
   ]
  },
  {
   "cell_type": "code",
   "execution_count": 24,
   "metadata": {},
   "outputs": [],
   "source": [
    "name_cfd=nltk.ConditionalFreqDist((fileid,name[-2:]) \n",
    "                                  for fileid in names.fileids() \n",
    "                                  for name in names.words(fileid))"
   ]
  },
  {
   "cell_type": "code",
   "execution_count": 25,
   "metadata": {},
   "outputs": [
    {
     "data": {
      "image/png": "[encoded data removed]",
      "text/plain": [
       "<Figure size 3600x720 with 1 Axes>"
      ]
     },
     "metadata": {
      "needs_background": "light"
     },
     "output_type": "display_data"
    },
    {
     "data": {
      "text/plain": [
       "<matplotlib.axes._subplots.AxesSubplot at 0x17a0ba77808>"
      ]
     },
     "execution_count": 25,
     "metadata": {},
     "output_type": "execute_result"
    }
   ],
   "source": [
    "plt.figure(figsize=(50,10))\n",
    "name_cfd.plot()"
   ]
  },
  {
   "cell_type": "code",
   "execution_count": 26,
   "metadata": {},
   "outputs": [],
   "source": [
    "def name_features(name):\n",
    "    return {\"pair\" : name[-2:]}"
   ]
  },
  {
   "cell_type": "code",
   "execution_count": 29,
   "metadata": {},
   "outputs": [
    {
     "data": {
      "text/plain": [
       "{'pair': 'ty'}"
      ]
     },
     "execution_count": 29,
     "metadata": {},
     "output_type": "execute_result"
    }
   ],
   "source": [
    "name_features(\"Katy\")"
   ]
  },
  {
   "cell_type": "code",
   "execution_count": 28,
   "metadata": {},
   "outputs": [],
   "source": [
    "name_list=[(name, \"male\") for name in names.words(\"male.txt\")] + [(name, \"female\") for name in names.words(\"female.txt\")] "
   ]
  },
  {
   "cell_type": "code",
   "execution_count": 30,
   "metadata": {},
   "outputs": [
    {
     "data": {
      "text/plain": [
       "[('Aamir', 'male'),\n",
       " ('Aaron', 'male'),\n",
       " ('Abbey', 'male'),\n",
       " ('Abbie', 'male'),\n",
       " ('Abbot', 'male'),\n",
       " ('Abbott', 'male'),\n",
       " ('Abby', 'male'),\n",
       " ('Abdel', 'male'),\n",
       " ('Abdul', 'male'),\n",
       " ('Abdulkarim', 'male')]"
      ]
     },
     "execution_count": 30,
     "metadata": {},
     "output_type": "execute_result"
    }
   ],
   "source": [
    "name_list[:10]"
   ]
  },
  {
   "cell_type": "code",
   "execution_count": 31,
   "metadata": {},
   "outputs": [
    {
     "data": {
      "text/plain": [
       "[('Zonnya', 'female'),\n",
       " ('Zora', 'female'),\n",
       " ('Zorah', 'female'),\n",
       " ('Zorana', 'female'),\n",
       " ('Zorina', 'female'),\n",
       " ('Zorine', 'female'),\n",
       " ('Zsa Zsa', 'female'),\n",
       " ('Zsazsa', 'female'),\n",
       " ('Zulema', 'female'),\n",
       " ('Zuzana', 'female')]"
      ]
     },
     "execution_count": 31,
     "metadata": {},
     "output_type": "execute_result"
    }
   ],
   "source": [
    "name_list[-10:]"
   ]
  },
  {
   "cell_type": "code",
   "execution_count": 35,
   "metadata": {},
   "outputs": [],
   "source": [
    "random.shuffle(name_list)"
   ]
  },
  {
   "cell_type": "code",
   "execution_count": 36,
   "metadata": {},
   "outputs": [],
   "source": [
    "features=[(name_features(name), gender) for (name, gender) in name_list]"
   ]
  },
  {
   "cell_type": "code",
   "execution_count": 37,
   "metadata": {},
   "outputs": [
    {
     "data": {
      "text/plain": [
       "3972.0"
      ]
     },
     "execution_count": 37,
     "metadata": {},
     "output_type": "execute_result"
    }
   ],
   "source": [
    "len(features)/2"
   ]
  },
  {
   "cell_type": "code",
   "execution_count": 38,
   "metadata": {},
   "outputs": [],
   "source": [
    "training_set=features[:3972]\n",
    "testing_set=features[3972:]"
   ]
  },
  {
   "cell_type": "code",
   "execution_count": 39,
   "metadata": {},
   "outputs": [],
   "source": [
    "classifier =nltk.NaiveBayesClassifier.train(training_set)"
   ]
  },
  {
   "cell_type": "code",
   "execution_count": 40,
   "metadata": {},
   "outputs": [],
   "source": [
    "male_names=names.words(\"male.txt\")"
   ]
  },
  {
   "cell_type": "code",
   "execution_count": 41,
   "metadata": {},
   "outputs": [
    {
     "data": {
      "text/plain": [
       "False"
      ]
     },
     "execution_count": 41,
     "metadata": {},
     "output_type": "execute_result"
    }
   ],
   "source": [
    "\"Carmello\" in male_names"
   ]
  },
  {
   "cell_type": "code",
   "execution_count": 42,
   "metadata": {},
   "outputs": [
    {
     "data": {
      "text/plain": [
       "'male'"
      ]
     },
     "execution_count": 42,
     "metadata": {},
     "output_type": "execute_result"
    }
   ],
   "source": [
    "classifier.classify(name_features(\"Carmello\"))"
   ]
  },
  {
   "cell_type": "code",
   "execution_count": 43,
   "metadata": {},
   "outputs": [
    {
     "data": {
      "text/plain": [
       "{'pair': 'lo'}"
      ]
     },
     "execution_count": 43,
     "metadata": {},
     "output_type": "execute_result"
    }
   ],
   "source": [
    "name_features(\"Carmello\")"
   ]
  },
  {
   "cell_type": "code",
   "execution_count": 44,
   "metadata": {},
   "outputs": [
    {
     "data": {
      "text/plain": [
       "0.7829808660624371"
      ]
     },
     "execution_count": 44,
     "metadata": {},
     "output_type": "execute_result"
    }
   ],
   "source": [
    "nltk.classify.accuracy(classifier, testing_set)"
   ]
  },
  {
   "cell_type": "markdown",
   "metadata": {},
   "source": [
    "## Identifying the contents of Document using Term Frequency"
   ]
  },
  {
   "cell_type": "code",
   "execution_count": 148,
   "metadata": {},
   "outputs": [],
   "source": [
    "import math"
   ]
  },
  {
   "cell_type": "code",
   "execution_count": 149,
   "metadata": {},
   "outputs": [
    {
     "data": {
      "text/plain": [
       "dict_keys(['tfidf_1', 'tfidf_2', 'tfidf_3', 'tfidf_4', 'tfidf_5', 'tfidf_6', 'tfidf_7', 'tfidf_8', 'tfidf_9', 'tfidf_10'])"
      ]
     },
     "execution_count": 149,
     "metadata": {},
     "output_type": "execute_result"
    }
   ],
   "source": [
    "dataset={\n",
    "    \"tfidf_1\":open(\"tfidf-1.txt\", encoding=\"utf8\").read(),\n",
    "    \"tfidf_2\":open(\"tfidf-2.txt\", encoding=\"utf8\").read(),\n",
    "    \"tfidf_3\":open(\"tfidf-3.txt\", encoding=\"utf8\").read(),\n",
    "    \"tfidf_4\":open(\"tfidf-4.txt\", encoding=\"utf8\").read(),\n",
    "    \"tfidf_5\":open(\"tfidf-5.txt\", encoding=\"utf8\").read(),\n",
    "    \"tfidf_6\":open(\"tfidf-6.txt\", encoding=\"utf8\").read(),\n",
    "    \"tfidf_7\":open(\"tfidf-7.txt\", encoding=\"utf8\").read(),\n",
    "    \"tfidf_8\":open(\"tfidf-8.txt\", encoding=\"utf8\").read(),\n",
    "    \"tfidf_9\":open(\"tfidf-9.txt\", encoding=\"utf8\").read(),\n",
    "    \"tfidf_10\":open(\"tfidf-10.txt\", encoding=\"utf8\").read()\n",
    "}\n",
    "dataset.keys()"
   ]
  },
  {
   "cell_type": "code",
   "execution_count": 150,
   "metadata": {},
   "outputs": [
    {
     "data": {
      "text/plain": [
       "'World War II (WWII or WW2), also known as the Second World War, was a global war that lasted from 1939 to 1945, though related conflicts began earlier. It involved the vast majority of the world\\'s nations—including all of the great powers—eventually forming two opposing military alliances: the Allies and the Axis. It was the most widespread war in history, and directly involved more than 100 million people from over 30 countries. In a state of \"total war\", the major participants threw their entire economic, industrial, and scientific capabilities behind the war effort, erasing the distinction between civilian and military resources. Marked by mass deaths of civilians, including the Holocaust (in which approximately 11 million people were killed) and the strategic bombing of industrial and population centres (in which approximately one million were killed, and which included the atomic bombings of Hiroshima and Nagasaki), it resulted in an estimated 50 million to 85 million fatalities. These made World War II the deadliest conflict in human history.\\n\\nThe Empire of Japan aimed to dominate Asia and the Pacific and was already at war with the Republic of China in 1937, but the world war is generally said to have begun on 1 September 1939 with the invasion of Poland by Germany and subsequent declarations of war on Germany by France and the United Kingdom. From late 1939 to early 1941, in a series of campaigns and treaties, Germany conquered or controlled much of continental Europe, and formed the Axis alliance with Italy and Japan. Based on the Molotov–Ribbentrop Pact of August 1939, Germany and the Soviet Union partitioned and annexed territories of their European neighbours, Poland, Finland, Romania and the Baltic states. For a year starting in late June 1940, the United Kingdom and the British Commonwealth were the only Allied forces continuing the fight against the European Axis powers, with campaigns in North Africa and the Horn of Africa, the aerial Battle of Britain and the Blitz bombing campaign, as well as the long-running Battle of the Atlantic. In June 1941, the European Axis powers launched an invasion of the Soviet Union, opening the largest land theatre of war in history, which trapped the major part of the Axis\\' military forces into a war of attrition. In December 1941, Japan attacked the United States and European territories in the Pacific Ocean, and quickly conquered much of the Western Pacific.\\n\\nThe Axis advance halted in 1942 when Japan lost the critical Battle of Midway, near Hawaii, and Germany was defeated in North Africa and then, decisively, at Stalingrad in the Soviet Union. In 1943, with a series of German defeats on the Eastern Front, the Allied invasion of Italy which brought about Italian surrender, and Allied victories in the Pacific, the Axis lost the initiative and undertook strategic retreat on all fronts. In 1944, the Western Allies invaded German-occupied France, while the Soviet Union regained all of its territorial losses and invaded Germany and its allies. During 1944 and 1945 the Japanese suffered major reverses in mainland Asia in South Central China and Burma, while the Allies crippled the Japanese Navy and captured key Western Pacific islands.\\n\\nThe war in Europe ended with an invasion of Germany by the Western Allies and the Soviet Union culminating in the capture of Berlin by Soviet and Polish troops and the subsequent German unconditional surrender on 8 May 1945. Following the Potsdam Declaration by the Allies on 26 July 1945 and the refusal of Japan to surrender under its terms, the United States dropped atomic bombs on the Japanese cities of Hiroshima and Nagasaki on 6 August and 9 August respectively. With an invasion of the Japanese archipelago imminent, the possibility of additional atomic bombings, and the Soviet Union\\'s declaration of war on Japan and invasion of Manchuria, Japan surrendered on 15 August 1945. Thus ended the war in Asia, cementing the total victory of the Allies.\\n\\nWorld War II altered the political alignment and social structure of the world. The United Nations (UN) was established to foster international co-operation and prevent future conflicts. The victorious great powers—the United States, the Soviet Union, China, the United Kingdom, and France—became the permanent members of the United Nations Security Council. The Soviet Union and the United States emerged as rival superpowers, setting the stage for the Cold War, which lasted for the next 46 years. Meanwhile, the influence of European great powers waned, while the decolonisation of Asia and Africa began. Most countries whose industries had been damaged moved towards economic recovery. Political integration, especially in Europe, emerged as an effort to end pre-war enmities and to create a common identity.'"
      ]
     },
     "execution_count": 150,
     "metadata": {},
     "output_type": "execute_result"
    }
   ],
   "source": [
    "dataset[\"tfidf_1\"]"
   ]
  },
  {
   "cell_type": "code",
   "execution_count": 153,
   "metadata": {},
   "outputs": [],
   "source": [
    "def tf(dataset, filename):\n",
    "    text=dataset[filename]\n",
    "    tokens=nltk.word_tokenize(text)\n",
    "    fd=nltk.FreqDist(tokens)\n",
    "    return fd"
   ]
  },
  {
   "cell_type": "code",
   "execution_count": 154,
   "metadata": {},
   "outputs": [
    {
     "data": {
      "text/plain": [
       "FreqDist({'the': 80, ',': 54, 'and': 46, 'of': 39, '.': 27, 'in': 21, 'war': 12, 'on': 11, 'to': 9, 'United': 9, ...})"
      ]
     },
     "execution_count": 154,
     "metadata": {},
     "output_type": "execute_result"
    }
   ],
   "source": [
    "tf(dataset,\"tfidf_1\")"
   ]
  },
  {
   "cell_type": "code",
   "execution_count": 155,
   "metadata": {},
   "outputs": [],
   "source": [
    "def idf(dataset, term):\n",
    "    count=[term in dataset[filename] for filename in dataset]\n",
    "    inv_df=math.log(len(count)/sum(count))\n",
    "    return inv_df"
   ]
  },
  {
   "cell_type": "code",
   "execution_count": 162,
   "metadata": {},
   "outputs": [
    {
     "data": {
      "text/plain": [
       "0.3566749439387324"
      ]
     },
     "execution_count": 162,
     "metadata": {},
     "output_type": "execute_result"
    }
   ],
   "source": [
    "idf(dataset, \"war\")"
   ]
  },
  {
   "cell_type": "code",
   "execution_count": 156,
   "metadata": {},
   "outputs": [],
   "source": [
    "def tfidf(dataset, filename, n):\n",
    "    term_scores={}\n",
    "    file_fd=tf(dataset, filename)\n",
    "    for term in file_fd:\n",
    "        if term.isalpha():\n",
    "            idf_val=idf(dataset, term)\n",
    "            tf_val=tf(dataset, filename)[term]\n",
    "            tfidf_val=idf_val*tf_val\n",
    "            term_scores[term]=round(tfidf_val,2)\n",
    "    return sorted(term_scores.items(), key=lambda x:-x[1])[:n]"
   ]
  },
  {
   "cell_type": "code",
   "execution_count": 158,
   "metadata": {},
   "outputs": [
    {
     "data": {
      "text/plain": [
       "[('Soviet', 20.72), ('Union', 18.42), ('Axis', 16.12)]"
      ]
     },
     "execution_count": 158,
     "metadata": {},
     "output_type": "execute_result"
    }
   ],
   "source": [
    "tfidf(dataset,\"tfidf_1\", 3)"
   ]
  },
  {
   "cell_type": "code",
   "execution_count": 160,
   "metadata": {},
   "outputs": [
    {
     "name": "stdout",
     "output_type": "stream",
     "text": [
      "tfidf_1: \n",
      " [('Soviet', 20.72), ('Union', 18.42), ('Axis', 16.12), ('Japan', 11.27), ('Germany', 11.27)] \n",
      ",\n",
      "tfidf_2: \n",
      " [('Module', 16.12), ('Armstrong', 13.82), ('lunar', 13.82), ('Apollo', 11.51), ('Moon', 9.21)] \n",
      ",\n",
      "tfidf_3: \n",
      " [('Napoleon', 32.19), ('French', 16.86), ('Coalition', 11.51), ('Prussia', 6.91), ('military', 6.02)] \n",
      ",\n",
      "tfidf_4: \n",
      " [('Washington', 25.33), ('President', 6.44), ('Continental', 4.82), ('presided', 4.61), ('militia', 4.61)] \n",
      ",\n",
      "tfidf_5: \n",
      " [('Newton', 23.03), ('scientists', 6.91), ('motion', 4.83), ('mathematician', 4.61), ('Principia', 4.61)] \n",
      ",\n",
      "tfidf_6: \n",
      " [('Revolution', 21.67), ('French', 15.65), ('privileges', 6.91), ('central', 6.91), ('Napoleon', 6.44)] \n",
      ",\n",
      "tfidf_7: \n",
      " [('Leonardo', 18.42), ('Vinci', 9.21), ('painting', 6.91), ('Piero', 4.61), ('architecture', 4.61)] \n",
      ",\n",
      "tfidf_8: \n",
      " [('Titanic', 18.42), ('passengers', 11.51), ('maritime', 9.21), ('safety', 9.21), ('lifeboats', 9.21)] \n",
      ",\n",
      "tfidf_9: \n",
      " [('Rockefeller', 23.03), ('business', 6.91), ('Standard', 6.91), ('Oil', 6.91), ('University', 4.83)] \n",
      ",\n",
      "tfidf_10: \n",
      " [('Tesla', 13.82), ('electrical', 6.44), ('wireless', 6.44), ('mechanical', 4.61), ('alternating', 4.61)] \n",
      ",\n"
     ]
    }
   ],
   "source": [
    "for file in dataset:\n",
    "    print(\"{0}: \\n {1} \\n,\".format(file, tfidf(dataset, file,5 )))"
   ]
  },
  {
   "cell_type": "markdown",
   "metadata": {},
   "source": [
    "From the above analysis we can predict the contents of the doument with quite some certainty."
   ]
  }
 ],
 "metadata": {
  "kernelspec": {
   "display_name": "Python 3",
   "language": "python",
   "name": "python3"
  },
  "language_info": {
   "codemirror_mode": {
    "name": "ipython",
    "version": 3
   },
   "file_extension": ".py",
   "mimetype": "text/x-python",
   "name": "python",
   "nbconvert_exporter": "python",
   "pygments_lexer": "ipython3",
   "version": "3.7.4"
  }
 },
 "nbformat": 4,
 "nbformat_minor": 2
}
