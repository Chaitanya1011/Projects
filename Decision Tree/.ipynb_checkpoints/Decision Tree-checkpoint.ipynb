{
 "cells": [
  {
   "cell_type": "markdown",
   "metadata": {},
   "source": [
    "# Decision Tree"
   ]
  },
  {
   "cell_type": "markdown",
   "metadata": {},
   "source": [
    "## 1. Brief Overview"
   ]
  },
  {
   "cell_type": "markdown",
   "metadata": {},
   "source": [
    "Decision Tree algorithm is a supervised learning algorithm. Unlike other supervised learning algorithms, the decision tree algorithm can also be used for solving regression and classification problems too.<br>\n",
    "Types of Decision Trees: it is based on the type of target variable we have. It can be of two types:\n",
    "- <b>Categorical Variable Decision Tree</b>: it has a categorical target variable.\n",
    "- <b>Continuous Variable Decision Tree</b>: it has a continuous target variable. <br><br>\n",
    "\n",
    "Assumptions while creating decision tree:\n",
    "- In the beginning, the whole training set is considered as the root.\n",
    "- Feature values are preferred to be categorical.\n",
    "- Records are distributed recursively on the basis of attribute values.\n",
    "- Order to placing attributes as root or internal node of the tree is done by using some statistical approach.<br><br>\n",
    "\n",
    "The most important step in the Decision Tree is to the attribute selection, what attribute to select to place at the root and at different levels. We do that by some criterias like:\n",
    "- <b>Entropy</b>: It is a measure of the randomness in the information being processed. The higher the entropy, the harder it is to draw any conclusions from that information.\n",
    "- <b>Information Gain</b>: It is a statistical property that measures how well a given attribute separates the training examples according to their target classification.\n",
    "- <b>Gini Index</b>\n",
    "- <b>Gain Ratio</b>"
   ]
  },
  {
   "cell_type": "markdown",
   "metadata": {},
   "source": [
    "Importing the necessary packages"
   ]
  },
  {
   "cell_type": "code",
   "execution_count": 5,
   "metadata": {},
   "outputs": [],
   "source": [
    "import pandas as pd\n",
    "from sklearn.tree import DecisionTreeClassifier \n",
    "from sklearn.model_selection import train_test_split\n",
    "from sklearn import metrics "
   ]
  },
  {
   "cell_type": "code",
   "execution_count": 11,
   "metadata": {},
   "outputs": [],
   "source": [
    "pima = pd.read_csv(\"diabetes.csv\")"
   ]
  },
  {
   "cell_type": "markdown",
   "metadata": {},
   "source": [
    "## 2. Exploratory Data Analysis"
   ]
  },
  {
   "cell_type": "code",
   "execution_count": 12,
   "metadata": {},
   "outputs": [
    {
     "data": {
      "text/html": [
       "<div>\n",
       "<style scoped>\n",
       "    .dataframe tbody tr th:only-of-type {\n",
       "        vertical-align: middle;\n",
       "    }\n",
       "\n",
       "    .dataframe tbody tr th {\n",
       "        vertical-align: top;\n",
       "    }\n",
       "\n",
       "    .dataframe thead th {\n",
       "        text-align: right;\n",
       "    }\n",
       "</style>\n",
       "<table border=\"1\" class=\"dataframe\">\n",
       "  <thead>\n",
       "    <tr style=\"text-align: right;\">\n",
       "      <th></th>\n",
       "      <th>Pregnancies</th>\n",
       "      <th>Glucose</th>\n",
       "      <th>BloodPressure</th>\n",
       "      <th>SkinThickness</th>\n",
       "      <th>Insulin</th>\n",
       "      <th>BMI</th>\n",
       "      <th>DiabetesPedigreeFunction</th>\n",
       "      <th>Age</th>\n",
       "      <th>Outcome</th>\n",
       "    </tr>\n",
       "  </thead>\n",
       "  <tbody>\n",
       "    <tr>\n",
       "      <td>0</td>\n",
       "      <td>6</td>\n",
       "      <td>148</td>\n",
       "      <td>72</td>\n",
       "      <td>35</td>\n",
       "      <td>0</td>\n",
       "      <td>33.6</td>\n",
       "      <td>0.627</td>\n",
       "      <td>50</td>\n",
       "      <td>1</td>\n",
       "    </tr>\n",
       "    <tr>\n",
       "      <td>1</td>\n",
       "      <td>1</td>\n",
       "      <td>85</td>\n",
       "      <td>66</td>\n",
       "      <td>29</td>\n",
       "      <td>0</td>\n",
       "      <td>26.6</td>\n",
       "      <td>0.351</td>\n",
       "      <td>31</td>\n",
       "      <td>0</td>\n",
       "    </tr>\n",
       "    <tr>\n",
       "      <td>2</td>\n",
       "      <td>8</td>\n",
       "      <td>183</td>\n",
       "      <td>64</td>\n",
       "      <td>0</td>\n",
       "      <td>0</td>\n",
       "      <td>23.3</td>\n",
       "      <td>0.672</td>\n",
       "      <td>32</td>\n",
       "      <td>1</td>\n",
       "    </tr>\n",
       "    <tr>\n",
       "      <td>3</td>\n",
       "      <td>1</td>\n",
       "      <td>89</td>\n",
       "      <td>66</td>\n",
       "      <td>23</td>\n",
       "      <td>94</td>\n",
       "      <td>28.1</td>\n",
       "      <td>0.167</td>\n",
       "      <td>21</td>\n",
       "      <td>0</td>\n",
       "    </tr>\n",
       "    <tr>\n",
       "      <td>4</td>\n",
       "      <td>0</td>\n",
       "      <td>137</td>\n",
       "      <td>40</td>\n",
       "      <td>35</td>\n",
       "      <td>168</td>\n",
       "      <td>43.1</td>\n",
       "      <td>2.288</td>\n",
       "      <td>33</td>\n",
       "      <td>1</td>\n",
       "    </tr>\n",
       "  </tbody>\n",
       "</table>\n",
       "</div>"
      ],
      "text/plain": [
       "   Pregnancies  Glucose  BloodPressure  SkinThickness  Insulin   BMI  \\\n",
       "0            6      148             72             35        0  33.6   \n",
       "1            1       85             66             29        0  26.6   \n",
       "2            8      183             64              0        0  23.3   \n",
       "3            1       89             66             23       94  28.1   \n",
       "4            0      137             40             35      168  43.1   \n",
       "\n",
       "   DiabetesPedigreeFunction  Age  Outcome  \n",
       "0                     0.627   50        1  \n",
       "1                     0.351   31        0  \n",
       "2                     0.672   32        1  \n",
       "3                     0.167   21        0  \n",
       "4                     2.288   33        1  "
      ]
     },
     "execution_count": 12,
     "metadata": {},
     "output_type": "execute_result"
    }
   ],
   "source": [
    "pima.head()"
   ]
  },
  {
   "cell_type": "code",
   "execution_count": 21,
   "metadata": {},
   "outputs": [
    {
     "data": {
      "text/plain": [
       "Index(['Pregnancies', 'Glucose', 'BloodPressure', 'SkinThickness', 'Insulin',\n",
       "       'BMI', 'DiabetesPedigreeFunction', 'Age', 'Outcome'],\n",
       "      dtype='object')"
      ]
     },
     "execution_count": 21,
     "metadata": {},
     "output_type": "execute_result"
    }
   ],
   "source": [
    "columns=pima.columns\n",
    "columns"
   ]
  },
  {
   "cell_type": "code",
   "execution_count": 43,
   "metadata": {},
   "outputs": [
    {
     "data": {
      "text/html": [
       "<div>\n",
       "<style scoped>\n",
       "    .dataframe tbody tr th:only-of-type {\n",
       "        vertical-align: middle;\n",
       "    }\n",
       "\n",
       "    .dataframe tbody tr th {\n",
       "        vertical-align: top;\n",
       "    }\n",
       "\n",
       "    .dataframe thead th {\n",
       "        text-align: right;\n",
       "    }\n",
       "</style>\n",
       "<table border=\"1\" class=\"dataframe\">\n",
       "  <thead>\n",
       "    <tr style=\"text-align: right;\">\n",
       "      <th></th>\n",
       "      <th>BMI</th>\n",
       "      <th>Outcome</th>\n",
       "    </tr>\n",
       "  </thead>\n",
       "  <tbody>\n",
       "    <tr>\n",
       "      <td>84</td>\n",
       "      <td>28.8</td>\n",
       "      <td>0.0</td>\n",
       "    </tr>\n",
       "    <tr>\n",
       "      <td>207</td>\n",
       "      <td>42.8</td>\n",
       "      <td>0.0</td>\n",
       "    </tr>\n",
       "    <tr>\n",
       "      <td>100</td>\n",
       "      <td>30.7</td>\n",
       "      <td>0.0</td>\n",
       "    </tr>\n",
       "    <tr>\n",
       "      <td>213</td>\n",
       "      <td>43.5</td>\n",
       "      <td>0.0</td>\n",
       "    </tr>\n",
       "    <tr>\n",
       "      <td>96</td>\n",
       "      <td>30.2</td>\n",
       "      <td>0.0</td>\n",
       "    </tr>\n",
       "    <tr>\n",
       "      <td>...</td>\n",
       "      <td>...</td>\n",
       "      <td>...</td>\n",
       "    </tr>\n",
       "    <tr>\n",
       "      <td>215</td>\n",
       "      <td>44.0</td>\n",
       "      <td>1.0</td>\n",
       "    </tr>\n",
       "    <tr>\n",
       "      <td>216</td>\n",
       "      <td>44.1</td>\n",
       "      <td>1.0</td>\n",
       "    </tr>\n",
       "    <tr>\n",
       "      <td>97</td>\n",
       "      <td>30.3</td>\n",
       "      <td>1.0</td>\n",
       "    </tr>\n",
       "    <tr>\n",
       "      <td>203</td>\n",
       "      <td>42.3</td>\n",
       "      <td>1.0</td>\n",
       "    </tr>\n",
       "    <tr>\n",
       "      <td>247</td>\n",
       "      <td>67.1</td>\n",
       "      <td>1.0</td>\n",
       "    </tr>\n",
       "  </tbody>\n",
       "</table>\n",
       "<p>248 rows × 2 columns</p>\n",
       "</div>"
      ],
      "text/plain": [
       "      BMI  Outcome\n",
       "84   28.8      0.0\n",
       "207  42.8      0.0\n",
       "100  30.7      0.0\n",
       "213  43.5      0.0\n",
       "96   30.2      0.0\n",
       "..    ...      ...\n",
       "215  44.0      1.0\n",
       "216  44.1      1.0\n",
       "97   30.3      1.0\n",
       "203  42.3      1.0\n",
       "247  67.1      1.0\n",
       "\n",
       "[248 rows x 2 columns]"
      ]
     },
     "execution_count": 43,
     "metadata": {},
     "output_type": "execute_result"
    }
   ],
   "source": [
    "pima[['BMI', 'Outcome']].groupby(['BMI'], as_index=False).mean().sort_values(by='Outcome')"
   ]
  },
  {
   "cell_type": "code",
   "execution_count": 69,
   "metadata": {},
   "outputs": [],
   "source": [
    "pima_diabetes=pima.loc[pima['Outcome']==1]\n",
    "pima_no_diabetes=pima.loc[pima['Outcome']==0]"
   ]
  },
  {
   "cell_type": "code",
   "execution_count": 72,
   "metadata": {},
   "outputs": [
    {
     "data": {
      "text/plain": [
       "(35.14253731343278, 30.30419999999996)"
      ]
     },
     "execution_count": 72,
     "metadata": {},
     "output_type": "execute_result"
    }
   ],
   "source": [
    "BMI_diabetes_avg=pima_diabetes['BMI'].mean()\n",
    "BMI_no_diabetes_avg=pima_no_diabetes['BMI'].mean()\n",
    "BMI_diabetes_avg, BMI_no_diabetes_avg"
   ]
  },
  {
   "cell_type": "code",
   "execution_count": 73,
   "metadata": {},
   "outputs": [
    {
     "data": {
      "text/plain": [
       "(37.06716417910448, 31.19)"
      ]
     },
     "execution_count": 73,
     "metadata": {},
     "output_type": "execute_result"
    }
   ],
   "source": [
    "Age_diabetes_avg=pima_diabetes['Age'].mean()\n",
    "Age_no_diabetes_avg=pima_no_diabetes['Age'].mean()\n",
    "Age_diabetes_avg, Age_no_diabetes_avg"
   ]
  },
  {
   "cell_type": "code",
   "execution_count": 23,
   "metadata": {},
   "outputs": [],
   "source": [
    "feature_cols = ['Pregnancies', 'Insulin', 'BMI', 'Age','Glucose','BloodPressure','DiabetesPedigreeFunction']\n",
    "X = pima[feature_cols] \n",
    "y = pima.Outcome"
   ]
  },
  {
   "cell_type": "code",
   "execution_count": 24,
   "metadata": {},
   "outputs": [],
   "source": [
    "X_train, X_test, y_train, y_test = train_test_split(X, y, test_size=0.3, random_state=1)"
   ]
  },
  {
   "cell_type": "code",
   "execution_count": 27,
   "metadata": {},
   "outputs": [
    {
     "name": "stdout",
     "output_type": "stream",
     "text": [
      "--------- Train_Set --------- \n",
      "     Pregnancies  Insulin   BMI  Age  Glucose  BloodPressure  \\\n",
      "88            15      110  37.1   43      136             70   \n",
      "467            0      100  36.8   25       97             64   \n",
      "550            1        0  27.4   21      116             70   \n",
      "147            2      119  30.5   34      106             64   \n",
      "481            0        0  35.2   29      123             88   \n",
      "\n",
      "     DiabetesPedigreeFunction  \n",
      "88                      0.153  \n",
      "467                     0.600  \n",
      "550                     0.204  \n",
      "147                     1.400  \n",
      "481                     0.197  \n",
      "\n",
      "\n",
      "--------- Test_Set ---------\n",
      "     Pregnancies  Insulin   BMI  Age  Glucose  BloodPressure  \\\n",
      "285            7      135  26.0   51      136             74   \n",
      "101            1        0  26.1   22      151             60   \n",
      "581            6        0  25.0   27      109             60   \n",
      "352            3        0  34.4   46       61             82   \n",
      "726            1      180  36.1   25      116             78   \n",
      "\n",
      "     DiabetesPedigreeFunction  \n",
      "285                     0.647  \n",
      "101                     0.179  \n",
      "581                     0.206  \n",
      "352                     0.243  \n",
      "726                     0.496  \n"
     ]
    }
   ],
   "source": [
    "print(\"--------- Train_Set --------- \")\n",
    "print(X_train.head())\n",
    "print(\"\\n\")\n",
    "print(\"--------- Test_Set ---------\")\n",
    "print(X_test.head())"
   ]
  },
  {
   "cell_type": "code",
   "execution_count": 28,
   "metadata": {},
   "outputs": [
    {
     "name": "stdout",
     "output_type": "stream",
     "text": [
      "--------- Train_Set ---------\n",
      "       Pregnancies     Insulin         BMI         Age     Glucose  \\\n",
      "count   537.000000  537.000000  537.000000  537.000000  537.000000   \n",
      "mean      3.757914   77.500931   31.838920   33.312849  121.001862   \n",
      "std       3.355361  112.715401    7.675022   11.967574   31.244492   \n",
      "min       0.000000    0.000000    0.000000   21.000000    0.000000   \n",
      "25%       1.000000    0.000000   27.000000   24.000000  100.000000   \n",
      "50%       3.000000    0.000000   32.000000   29.000000  117.000000   \n",
      "75%       6.000000  126.000000   36.400000   41.000000  140.000000   \n",
      "max      15.000000  744.000000   67.100000   72.000000  198.000000   \n",
      "\n",
      "       BloodPressure  DiabetesPedigreeFunction  \n",
      "count     537.000000                537.000000  \n",
      "mean       68.951583                  0.468156  \n",
      "std        20.115002                  0.333139  \n",
      "min         0.000000                  0.085000  \n",
      "25%        62.000000                  0.240000  \n",
      "50%        72.000000                  0.355000  \n",
      "75%        80.000000                  0.613000  \n",
      "max       122.000000                  2.329000  \n",
      "\n",
      "\n",
      "--------- Test_Set ---------\n",
      "       Pregnancies     Insulin         BMI         Age     Glucose  \\\n",
      "count   231.000000  231.000000  231.000000  231.000000  231.000000   \n",
      "mean      4.047619   85.142857   32.349784   33.073593  120.645022   \n",
      "std       3.401072  121.000903    8.356450   11.287112   33.673037   \n",
      "min       0.000000    0.000000    0.000000   21.000000    0.000000   \n",
      "25%       1.000000    0.000000   27.800000   24.000000   96.500000   \n",
      "50%       4.000000   51.000000   32.400000   30.000000  116.000000   \n",
      "75%       6.000000  129.500000   37.050000   40.000000  141.000000   \n",
      "max      17.000000  846.000000   59.400000   81.000000  199.000000   \n",
      "\n",
      "       BloodPressure  DiabetesPedigreeFunction  \n",
      "count     231.000000                231.000000  \n",
      "mean       69.463203                  0.480524  \n",
      "std        17.500241                  0.327634  \n",
      "min         0.000000                  0.078000  \n",
      "25%        64.000000                  0.245500  \n",
      "50%        72.000000                  0.407000  \n",
      "75%        78.000000                  0.638500  \n",
      "max       110.000000                  2.420000  \n"
     ]
    }
   ],
   "source": [
    "print(\"--------- Train_Set ---------\")\n",
    "print(X_train.describe())\n",
    "print(\"\\n\")\n",
    "print(\"--------- Test_Set ---------\")\n",
    "print(X_test.describe())"
   ]
  },
  {
   "cell_type": "code",
   "execution_count": 29,
   "metadata": {},
   "outputs": [
    {
     "name": "stdout",
     "output_type": "stream",
     "text": [
      "---------In the train set ---------\n",
      "Pregnancies                 0\n",
      "Insulin                     0\n",
      "BMI                         0\n",
      "Age                         0\n",
      "Glucose                     0\n",
      "BloodPressure               0\n",
      "DiabetesPedigreeFunction    0\n",
      "dtype: int64\n",
      "\n",
      "\n",
      "--------- In the test set ---------\n",
      "Pregnancies                 0\n",
      "Insulin                     0\n",
      "BMI                         0\n",
      "Age                         0\n",
      "Glucose                     0\n",
      "BloodPressure               0\n",
      "DiabetesPedigreeFunction    0\n",
      "dtype: int64\n"
     ]
    }
   ],
   "source": [
    "print(\"---------In the train set ---------\")\n",
    "print(X_train.isna().sum())\n",
    "print(\"\\n\")\n",
    "print(\"--------- In the test set ---------\")\n",
    "print(X_test.isna().sum())"
   ]
  },
  {
   "cell_type": "markdown",
   "metadata": {},
   "source": [
    "The data set does not have any NA or missing values. There is not much pre-processing needed hence."
   ]
  },
  {
   "cell_type": "markdown",
   "metadata": {},
   "source": [
    "## 3. Modelling"
   ]
  },
  {
   "cell_type": "code",
   "execution_count": 75,
   "metadata": {},
   "outputs": [],
   "source": [
    "clf = DecisionTreeClassifier()\n",
    "clf = clf.fit(X_train,y_train)\n",
    "y_pred = clf.predict(X_test)"
   ]
  },
  {
   "cell_type": "code",
   "execution_count": 76,
   "metadata": {},
   "outputs": [
    {
     "name": "stdout",
     "output_type": "stream",
     "text": [
      "Accuracy: 0.6666666666666666\n"
     ]
    }
   ],
   "source": [
    "print(\"Accuracy:\",metrics.accuracy_score(y_test, y_pred))"
   ]
  },
  {
   "cell_type": "code",
   "execution_count": null,
   "metadata": {},
   "outputs": [],
   "source": []
  }
 ],
 "metadata": {
  "kernelspec": {
   "display_name": "Python 3",
   "language": "python",
   "name": "python3"
  },
  "language_info": {
   "codemirror_mode": {
    "name": "ipython",
    "version": 3
   },
   "file_extension": ".py",
   "mimetype": "text/x-python",
   "name": "python",
   "nbconvert_exporter": "python",
   "pygments_lexer": "ipython3",
   "version": "3.7.4"
  }
 },
 "nbformat": 4,
 "nbformat_minor": 2
}
